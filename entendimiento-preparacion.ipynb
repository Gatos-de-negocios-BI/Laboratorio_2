{
 "cells": [
  {
   "cell_type": "markdown",
   "metadata": {},
   "source": [
    "<h1>Analisis de los datos para limpieza</h1>"
   ]
  },
  {
   "cell_type": "code",
   "execution_count": 609,
   "metadata": {},
   "outputs": [],
   "source": [
    "import pandas as pd\n",
    "import numpy as np\n",
    "import math"
   ]
  },
  {
   "cell_type": "code",
   "execution_count": 610,
   "metadata": {},
   "outputs": [],
   "source": [
    "data = pd.read_csv('data\\Empresas_mas_grandes_del_pais_2018.csv', delimiter=';', decimal=',')"
   ]
  },
  {
   "cell_type": "code",
   "execution_count": 611,
   "metadata": {},
   "outputs": [
    {
     "data": {
      "text/plain": [
       "(1068, 20)"
      ]
     },
     "execution_count": 611,
     "metadata": {},
     "output_type": "execute_result"
    }
   ],
   "source": [
    "data.shape"
   ]
  },
  {
   "cell_type": "code",
   "execution_count": 612,
   "metadata": {},
   "outputs": [
    {
     "data": {
      "text/html": [
       "<div>\n",
       "<style scoped>\n",
       "    .dataframe tbody tr th:only-of-type {\n",
       "        vertical-align: middle;\n",
       "    }\n",
       "\n",
       "    .dataframe tbody tr th {\n",
       "        vertical-align: top;\n",
       "    }\n",
       "\n",
       "    .dataframe thead th {\n",
       "        text-align: right;\n",
       "    }\n",
       "</style>\n",
       "<table border=\"1\" class=\"dataframe\">\n",
       "  <thead>\n",
       "    <tr style=\"text-align: right;\">\n",
       "      <th></th>\n",
       "      <th>No.</th>\n",
       "      <th>NIT</th>\n",
       "      <th>INGRESOS OPERACIONALES\\r\\n2018*</th>\n",
       "      <th>GANANCIA (PERDIDA) 2018</th>\n",
       "      <th>TOTAL ACTIVOS 2018</th>\n",
       "      <th>TOTAL PASIVOS 2018</th>\n",
       "      <th>TOTAL PATRIMONIO 2018</th>\n",
       "      <th>INGRESOS OPERACIONALES\\r\\n2017*</th>\n",
       "      <th>GANANCIA (PERDIDA) 2017</th>\n",
       "      <th>TOTAL ACTIVOS 2017</th>\n",
       "      <th>TOTAL PATRIMONIO 2017</th>\n",
       "    </tr>\n",
       "  </thead>\n",
       "  <tbody>\n",
       "    <tr>\n",
       "      <th>count</th>\n",
       "      <td>1068.000000</td>\n",
       "      <td>1.068000e+03</td>\n",
       "      <td>1.067000e+03</td>\n",
       "      <td>1.067000e+03</td>\n",
       "      <td>1.066000e+03</td>\n",
       "      <td>1.066000e+03</td>\n",
       "      <td>1.064000e+03</td>\n",
       "      <td>1.063000e+03</td>\n",
       "      <td>1.067000e+03</td>\n",
       "      <td>1.066000e+03</td>\n",
       "      <td>1.068000e+03</td>\n",
       "    </tr>\n",
       "    <tr>\n",
       "      <th>mean</th>\n",
       "      <td>534.500000</td>\n",
       "      <td>8.590699e+08</td>\n",
       "      <td>1.155635e+10</td>\n",
       "      <td>5.998472e+08</td>\n",
       "      <td>1.137694e+10</td>\n",
       "      <td>6.534155e+09</td>\n",
       "      <td>5.927940e+11</td>\n",
       "      <td>9.682581e+09</td>\n",
       "      <td>1.147441e+08</td>\n",
       "      <td>1.014422e+10</td>\n",
       "      <td>4.690964e+09</td>\n",
       "    </tr>\n",
       "    <tr>\n",
       "      <th>std</th>\n",
       "      <td>308.449348</td>\n",
       "      <td>3.782354e+07</td>\n",
       "      <td>4.333031e+10</td>\n",
       "      <td>5.048789e+09</td>\n",
       "      <td>4.632190e+10</td>\n",
       "      <td>2.647914e+10</td>\n",
       "      <td>1.917930e+13</td>\n",
       "      <td>3.559347e+10</td>\n",
       "      <td>5.226753e+09</td>\n",
       "      <td>4.301534e+10</td>\n",
       "      <td>2.278373e+10</td>\n",
       "    </tr>\n",
       "    <tr>\n",
       "      <th>min</th>\n",
       "      <td>1.000000</td>\n",
       "      <td>8.000003e+08</td>\n",
       "      <td>1.343546e+09</td>\n",
       "      <td>-6.993593e+10</td>\n",
       "      <td>7.329964e+07</td>\n",
       "      <td>9.900000e+01</td>\n",
       "      <td>-7.303930e+10</td>\n",
       "      <td>0.000000e+00</td>\n",
       "      <td>-7.977997e+10</td>\n",
       "      <td>6.788196e+07</td>\n",
       "      <td>-6.786768e+10</td>\n",
       "    </tr>\n",
       "    <tr>\n",
       "      <th>25%</th>\n",
       "      <td>267.750000</td>\n",
       "      <td>8.300113e+08</td>\n",
       "      <td>1.802778e+09</td>\n",
       "      <td>9.239050e+06</td>\n",
       "      <td>1.218783e+09</td>\n",
       "      <td>6.746959e+08</td>\n",
       "      <td>3.070000e+08</td>\n",
       "      <td>1.586921e+09</td>\n",
       "      <td>2.899945e+06</td>\n",
       "      <td>1.092483e+09</td>\n",
       "      <td>2.622381e+08</td>\n",
       "    </tr>\n",
       "    <tr>\n",
       "      <th>50%</th>\n",
       "      <td>534.500000</td>\n",
       "      <td>8.600590e+08</td>\n",
       "      <td>2.804879e+09</td>\n",
       "      <td>6.758277e+07</td>\n",
       "      <td>2.517761e+09</td>\n",
       "      <td>1.389024e+09</td>\n",
       "      <td>8.476198e+08</td>\n",
       "      <td>2.514686e+09</td>\n",
       "      <td>5.023917e+07</td>\n",
       "      <td>2.192675e+09</td>\n",
       "      <td>7.490925e+08</td>\n",
       "    </tr>\n",
       "    <tr>\n",
       "      <th>75%</th>\n",
       "      <td>801.250000</td>\n",
       "      <td>8.910851e+08</td>\n",
       "      <td>6.469173e+09</td>\n",
       "      <td>2.642901e+08</td>\n",
       "      <td>6.486281e+09</td>\n",
       "      <td>3.631087e+09</td>\n",
       "      <td>2.660380e+09</td>\n",
       "      <td>5.402983e+09</td>\n",
       "      <td>1.915863e+08</td>\n",
       "      <td>5.766432e+09</td>\n",
       "      <td>2.274646e+09</td>\n",
       "    </tr>\n",
       "    <tr>\n",
       "      <th>max</th>\n",
       "      <td>1068.000000</td>\n",
       "      <td>9.010975e+08</td>\n",
       "      <td>7.014040e+11</td>\n",
       "      <td>1.155640e+11</td>\n",
       "      <td>1.137620e+12</td>\n",
       "      <td>5.654820e+11</td>\n",
       "      <td>6.256140e+14</td>\n",
       "      <td>5.948910e+11</td>\n",
       "      <td>6.620412e+10</td>\n",
       "      <td>1.075490e+12</td>\n",
       "      <td>4.789860e+11</td>\n",
       "    </tr>\n",
       "  </tbody>\n",
       "</table>\n",
       "</div>"
      ],
      "text/plain": [
       "               No.           NIT  INGRESOS OPERACIONALES\\r\\n2018*  \\\n",
       "count  1068.000000  1.068000e+03                     1.067000e+03   \n",
       "mean    534.500000  8.590699e+08                     1.155635e+10   \n",
       "std     308.449348  3.782354e+07                     4.333031e+10   \n",
       "min       1.000000  8.000003e+08                     1.343546e+09   \n",
       "25%     267.750000  8.300113e+08                     1.802778e+09   \n",
       "50%     534.500000  8.600590e+08                     2.804879e+09   \n",
       "75%     801.250000  8.910851e+08                     6.469173e+09   \n",
       "max    1068.000000  9.010975e+08                     7.014040e+11   \n",
       "\n",
       "       GANANCIA (PERDIDA) 2018  TOTAL ACTIVOS 2018  TOTAL PASIVOS 2018  \\\n",
       "count             1.067000e+03        1.066000e+03        1.066000e+03   \n",
       "mean              5.998472e+08        1.137694e+10        6.534155e+09   \n",
       "std               5.048789e+09        4.632190e+10        2.647914e+10   \n",
       "min              -6.993593e+10        7.329964e+07        9.900000e+01   \n",
       "25%               9.239050e+06        1.218783e+09        6.746959e+08   \n",
       "50%               6.758277e+07        2.517761e+09        1.389024e+09   \n",
       "75%               2.642901e+08        6.486281e+09        3.631087e+09   \n",
       "max               1.155640e+11        1.137620e+12        5.654820e+11   \n",
       "\n",
       "       TOTAL PATRIMONIO 2018  INGRESOS OPERACIONALES\\r\\n2017*  \\\n",
       "count           1.064000e+03                     1.063000e+03   \n",
       "mean            5.927940e+11                     9.682581e+09   \n",
       "std             1.917930e+13                     3.559347e+10   \n",
       "min            -7.303930e+10                     0.000000e+00   \n",
       "25%             3.070000e+08                     1.586921e+09   \n",
       "50%             8.476198e+08                     2.514686e+09   \n",
       "75%             2.660380e+09                     5.402983e+09   \n",
       "max             6.256140e+14                     5.948910e+11   \n",
       "\n",
       "       GANANCIA (PERDIDA) 2017  TOTAL ACTIVOS 2017  TOTAL PATRIMONIO 2017  \n",
       "count             1.067000e+03        1.066000e+03           1.068000e+03  \n",
       "mean              1.147441e+08        1.014422e+10           4.690964e+09  \n",
       "std               5.226753e+09        4.301534e+10           2.278373e+10  \n",
       "min              -7.977997e+10        6.788196e+07          -6.786768e+10  \n",
       "25%               2.899945e+06        1.092483e+09           2.622381e+08  \n",
       "50%               5.023917e+07        2.192675e+09           7.490925e+08  \n",
       "75%               1.915863e+08        5.766432e+09           2.274646e+09  \n",
       "max               6.620412e+10        1.075490e+12           4.789860e+11  "
      ]
     },
     "execution_count": 612,
     "metadata": {},
     "output_type": "execute_result"
    }
   ],
   "source": [
    "data.describe()"
   ]
  },
  {
   "cell_type": "code",
   "execution_count": 613,
   "metadata": {},
   "outputs": [
    {
     "data": {
      "text/html": [
       "<div>\n",
       "<style scoped>\n",
       "    .dataframe tbody tr th:only-of-type {\n",
       "        vertical-align: middle;\n",
       "    }\n",
       "\n",
       "    .dataframe tbody tr th {\n",
       "        vertical-align: top;\n",
       "    }\n",
       "\n",
       "    .dataframe thead th {\n",
       "        text-align: right;\n",
       "    }\n",
       "</style>\n",
       "<table border=\"1\" class=\"dataframe\">\n",
       "  <thead>\n",
       "    <tr style=\"text-align: right;\">\n",
       "      <th></th>\n",
       "      <th>No.</th>\n",
       "      <th>NIT</th>\n",
       "      <th>RAZON SOCIAL</th>\n",
       "      <th>SUPERVISOR</th>\n",
       "      <th>REGIÓN</th>\n",
       "      <th>DEPARTAMENTO DOMICILIO</th>\n",
       "      <th>CIUDAD DOMICILIO</th>\n",
       "      <th>CIIU</th>\n",
       "      <th>MACROSECTOR</th>\n",
       "      <th>INGRESOS OPERACIONALES\\r\\n2018*</th>\n",
       "      <th>GANANCIA (PERDIDA) 2018</th>\n",
       "      <th>TOTAL ACTIVOS 2018</th>\n",
       "      <th>TOTAL PASIVOS 2018</th>\n",
       "      <th>TOTAL PATRIMONIO 2018</th>\n",
       "      <th>INGRESOS OPERACIONALES\\r\\n2017*</th>\n",
       "      <th>GANANCIA (PERDIDA) 2017</th>\n",
       "      <th>TOTAL ACTIVOS 2017</th>\n",
       "      <th>TOTAL PASIVOS 2017</th>\n",
       "      <th>TOTAL PATRIMONIO 2017</th>\n",
       "      <th>GRUPO EN NIIF</th>\n",
       "    </tr>\n",
       "  </thead>\n",
       "  <tbody>\n",
       "    <tr>\n",
       "      <th>0</th>\n",
       "      <td>1</td>\n",
       "      <td>860003563</td>\n",
       "      <td>ABB LTDA</td>\n",
       "      <td>SUPERSOCIEDADES</td>\n",
       "      <td>Bogotá - Cundinamarca</td>\n",
       "      <td>BOGOTA D.C.</td>\n",
       "      <td>BOGOTA-D.C.-BOGOTA D.C.</td>\n",
       "      <td>C2711 - Fabricación de motores, generadores y ...</td>\n",
       "      <td>MANUFACTURA</td>\n",
       "      <td>3.571775e+09</td>\n",
       "      <td>-5.872548e+07</td>\n",
       "      <td>2.956848e+09</td>\n",
       "      <td>2.476739e+09</td>\n",
       "      <td>4.801089e+08</td>\n",
       "      <td>4.005049e+09</td>\n",
       "      <td>-8.752900e+07</td>\n",
       "      <td>2.875460e+09</td>\n",
       "      <td>$ 2341172480</td>\n",
       "      <td>5.342871e+08</td>\n",
       "      <td>NIIF PLENAS-GRUPO 1</td>\n",
       "    </tr>\n",
       "    <tr>\n",
       "      <th>1</th>\n",
       "      <td>2</td>\n",
       "      <td>900138670</td>\n",
       "      <td>C.I BIOCOSTA S.A</td>\n",
       "      <td>SUPERSOCIEDADES</td>\n",
       "      <td>Costa Atlántica</td>\n",
       "      <td>MAGDALENA</td>\n",
       "      <td>SANTA-MARTA-MAGDALENA</td>\n",
       "      <td>G4610 - Comercio al por mayor a cambio de una ...</td>\n",
       "      <td>COMERCIO</td>\n",
       "      <td>6.018902e+09</td>\n",
       "      <td>3.504944e+07</td>\n",
       "      <td>1.207011e+09</td>\n",
       "      <td>1.031424e+09</td>\n",
       "      <td>1.755873e+08</td>\n",
       "      <td>4.994552e+09</td>\n",
       "      <td>1.083777e+07</td>\n",
       "      <td>1.020832e+09</td>\n",
       "      <td>$ 894986480</td>\n",
       "      <td>1.258455e+08</td>\n",
       "      <td>NIIF PLENAS-GRUPO 1</td>\n",
       "    </tr>\n",
       "    <tr>\n",
       "      <th>2</th>\n",
       "      <td>3</td>\n",
       "      <td>890302629</td>\n",
       "      <td>CONSTRUCTORA MELENDEZ S.A.</td>\n",
       "      <td>SUPERSOCIEDADES</td>\n",
       "      <td>Costa Pacífica</td>\n",
       "      <td>VALLE</td>\n",
       "      <td>CALI-VALLE</td>\n",
       "      <td>F4111 - Construcción de edificios residenciales</td>\n",
       "      <td>CONSTRUCCIÓN</td>\n",
       "      <td>1.739284e+09</td>\n",
       "      <td>1.735105e+07</td>\n",
       "      <td>3.030767e+09</td>\n",
       "      <td>2.163544e+09</td>\n",
       "      <td>8.672231e+08</td>\n",
       "      <td>1.039942e+09</td>\n",
       "      <td>-3.877247e+07</td>\n",
       "      <td>2.615650e+09</td>\n",
       "      <td>$ 1748991200</td>\n",
       "      <td>8.666590e+08</td>\n",
       "      <td>NIIF PLENAS-GRUPO 1</td>\n",
       "    </tr>\n",
       "    <tr>\n",
       "      <th>3</th>\n",
       "      <td>4</td>\n",
       "      <td>811004055</td>\n",
       "      <td>EMDISALUD</td>\n",
       "      <td>SUPERSALUD</td>\n",
       "      <td>Costa Atlántica</td>\n",
       "      <td>CORDOBA</td>\n",
       "      <td>MONTERIA</td>\n",
       "      <td>O8430- Actividades de planes de seguridad soci...</td>\n",
       "      <td>SERVICIOS</td>\n",
       "      <td>4.033887e+10</td>\n",
       "      <td>-3.016582e+10</td>\n",
       "      <td>9.908133e+09</td>\n",
       "      <td>4.950861e+10</td>\n",
       "      <td>-3.960047e+10</td>\n",
       "      <td>3.696528e+10</td>\n",
       "      <td>-1.086227e+10</td>\n",
       "      <td>9.807867e+09</td>\n",
       "      <td>$ 19246633716</td>\n",
       "      <td>-9.438767e+09</td>\n",
       "      <td>NIIF PYMES-GRUPO 2</td>\n",
       "    </tr>\n",
       "    <tr>\n",
       "      <th>4</th>\n",
       "      <td>5</td>\n",
       "      <td>890503314</td>\n",
       "      <td>CERAMICA ITALIA SA</td>\n",
       "      <td>SUPERSOCIEDADES</td>\n",
       "      <td>Centro - Oriente</td>\n",
       "      <td>NORTE DE SANTANDER</td>\n",
       "      <td>CUCUTA-NORTE DE SANTANDER</td>\n",
       "      <td>C2392 - Fabricación de materiales de arcilla p...</td>\n",
       "      <td>MANUFACTURA</td>\n",
       "      <td>1.419514e+09</td>\n",
       "      <td>4.582130e+06</td>\n",
       "      <td>1.498588e+09</td>\n",
       "      <td>4.971313e+08</td>\n",
       "      <td>1.001457e+09</td>\n",
       "      <td>1.360935e+09</td>\n",
       "      <td>3.250460e+07</td>\n",
       "      <td>1.509246e+09</td>\n",
       "      <td>$ 490200920</td>\n",
       "      <td>1.019045e+09</td>\n",
       "      <td>NIIF PYMES-GRUPO 2</td>\n",
       "    </tr>\n",
       "  </tbody>\n",
       "</table>\n",
       "</div>"
      ],
      "text/plain": [
       "   No.        NIT                RAZON SOCIAL       SUPERVISOR  \\\n",
       "0    1  860003563                    ABB LTDA  SUPERSOCIEDADES   \n",
       "1    2  900138670            C.I BIOCOSTA S.A  SUPERSOCIEDADES   \n",
       "2    3  890302629  CONSTRUCTORA MELENDEZ S.A.  SUPERSOCIEDADES   \n",
       "3    4  811004055                   EMDISALUD       SUPERSALUD   \n",
       "4    5  890503314          CERAMICA ITALIA SA  SUPERSOCIEDADES   \n",
       "\n",
       "                  REGIÓN DEPARTAMENTO DOMICILIO           CIUDAD DOMICILIO  \\\n",
       "0  Bogotá - Cundinamarca            BOGOTA D.C.    BOGOTA-D.C.-BOGOTA D.C.   \n",
       "1        Costa Atlántica              MAGDALENA      SANTA-MARTA-MAGDALENA   \n",
       "2         Costa Pacífica                  VALLE                 CALI-VALLE   \n",
       "3        Costa Atlántica                CORDOBA                   MONTERIA   \n",
       "4       Centro - Oriente     NORTE DE SANTANDER  CUCUTA-NORTE DE SANTANDER   \n",
       "\n",
       "                                                CIIU   MACROSECTOR  \\\n",
       "0  C2711 - Fabricación de motores, generadores y ...   MANUFACTURA   \n",
       "1  G4610 - Comercio al por mayor a cambio de una ...      COMERCIO   \n",
       "2    F4111 - Construcción de edificios residenciales  CONSTRUCCIÓN   \n",
       "3  O8430- Actividades de planes de seguridad soci...     SERVICIOS   \n",
       "4  C2392 - Fabricación de materiales de arcilla p...   MANUFACTURA   \n",
       "\n",
       "   INGRESOS OPERACIONALES\\r\\n2018*  GANANCIA (PERDIDA) 2018  \\\n",
       "0                     3.571775e+09            -5.872548e+07   \n",
       "1                     6.018902e+09             3.504944e+07   \n",
       "2                     1.739284e+09             1.735105e+07   \n",
       "3                     4.033887e+10            -3.016582e+10   \n",
       "4                     1.419514e+09             4.582130e+06   \n",
       "\n",
       "   TOTAL ACTIVOS 2018  TOTAL PASIVOS 2018  TOTAL PATRIMONIO 2018  \\\n",
       "0        2.956848e+09        2.476739e+09           4.801089e+08   \n",
       "1        1.207011e+09        1.031424e+09           1.755873e+08   \n",
       "2        3.030767e+09        2.163544e+09           8.672231e+08   \n",
       "3        9.908133e+09        4.950861e+10          -3.960047e+10   \n",
       "4        1.498588e+09        4.971313e+08           1.001457e+09   \n",
       "\n",
       "   INGRESOS OPERACIONALES\\r\\n2017*  GANANCIA (PERDIDA) 2017  \\\n",
       "0                     4.005049e+09            -8.752900e+07   \n",
       "1                     4.994552e+09             1.083777e+07   \n",
       "2                     1.039942e+09            -3.877247e+07   \n",
       "3                     3.696528e+10            -1.086227e+10   \n",
       "4                     1.360935e+09             3.250460e+07   \n",
       "\n",
       "   TOTAL ACTIVOS 2017 TOTAL PASIVOS 2017  TOTAL PATRIMONIO 2017  \\\n",
       "0        2.875460e+09       $ 2341172480           5.342871e+08   \n",
       "1        1.020832e+09        $ 894986480           1.258455e+08   \n",
       "2        2.615650e+09       $ 1748991200           8.666590e+08   \n",
       "3        9.807867e+09      $ 19246633716          -9.438767e+09   \n",
       "4        1.509246e+09        $ 490200920           1.019045e+09   \n",
       "\n",
       "         GRUPO EN NIIF  \n",
       "0  NIIF PLENAS-GRUPO 1  \n",
       "1  NIIF PLENAS-GRUPO 1  \n",
       "2  NIIF PLENAS-GRUPO 1  \n",
       "3   NIIF PYMES-GRUPO 2  \n",
       "4   NIIF PYMES-GRUPO 2  "
      ]
     },
     "execution_count": 613,
     "metadata": {},
     "output_type": "execute_result"
    }
   ],
   "source": [
    "data.head()"
   ]
  },
  {
   "cell_type": "code",
   "execution_count": 614,
   "metadata": {},
   "outputs": [
    {
     "data": {
      "text/plain": [
       "No.                                  int64\n",
       "NIT                                  int64\n",
       "RAZON SOCIAL                        object\n",
       "SUPERVISOR                          object\n",
       "REGIÓN                              object\n",
       "DEPARTAMENTO DOMICILIO              object\n",
       "CIUDAD DOMICILIO                    object\n",
       "CIIU                                object\n",
       "MACROSECTOR                         object\n",
       "INGRESOS OPERACIONALES\\r\\n2018*    float64\n",
       "GANANCIA (PERDIDA) 2018            float64\n",
       "TOTAL ACTIVOS 2018                 float64\n",
       "TOTAL PASIVOS 2018                 float64\n",
       "TOTAL PATRIMONIO 2018              float64\n",
       "INGRESOS OPERACIONALES\\r\\n2017*    float64\n",
       "GANANCIA (PERDIDA) 2017            float64\n",
       "TOTAL ACTIVOS 2017                 float64\n",
       "TOTAL PASIVOS 2017                  object\n",
       "TOTAL PATRIMONIO 2017              float64\n",
       "GRUPO EN NIIF                       object\n",
       "dtype: object"
      ]
     },
     "execution_count": 614,
     "metadata": {},
     "output_type": "execute_result"
    }
   ],
   "source": [
    "data.dtypes"
   ]
  },
  {
   "cell_type": "code",
   "execution_count": 615,
   "metadata": {},
   "outputs": [
    {
     "data": {
      "text/plain": [
       "No.                                0.000000\n",
       "NIT                                0.000000\n",
       "RAZON SOCIAL                       0.000000\n",
       "SUPERVISOR                         0.000000\n",
       "REGIÓN                             0.000936\n",
       "DEPARTAMENTO DOMICILIO             0.004682\n",
       "CIUDAD DOMICILIO                   0.003745\n",
       "CIIU                               0.000936\n",
       "MACROSECTOR                        0.002809\n",
       "INGRESOS OPERACIONALES\\r\\n2018*    0.000936\n",
       "GANANCIA (PERDIDA) 2018            0.000936\n",
       "TOTAL ACTIVOS 2018                 0.001873\n",
       "TOTAL PASIVOS 2018                 0.001873\n",
       "TOTAL PATRIMONIO 2018              0.003745\n",
       "INGRESOS OPERACIONALES\\r\\n2017*    0.004682\n",
       "GANANCIA (PERDIDA) 2017            0.000936\n",
       "TOTAL ACTIVOS 2017                 0.001873\n",
       "TOTAL PASIVOS 2017                 0.000000\n",
       "TOTAL PATRIMONIO 2017              0.000000\n",
       "GRUPO EN NIIF                      0.000000\n",
       "dtype: float64"
      ]
     },
     "execution_count": 615,
     "metadata": {},
     "output_type": "execute_result"
    }
   ],
   "source": [
    "data.isnull().mean()"
   ]
  },
  {
   "cell_type": "code",
   "execution_count": 616,
   "metadata": {},
   "outputs": [
    {
     "data": {
      "text/plain": [
       "0.0299625468164794"
      ]
     },
     "execution_count": 616,
     "metadata": {},
     "output_type": "execute_result"
    }
   ],
   "source": [
    "data.isnull().mean().sum()"
   ]
  },
  {
   "cell_type": "markdown",
   "metadata": {},
   "source": [
    "Como se puede ver el 2% de nuestras casillas están vacias, y la mayoria de los vacios pertenecen a datos que nos podrían ayudar con el analisis, se tomaran decisiones para reducir ese porcentaje de nulos."
   ]
  },
  {
   "cell_type": "code",
   "execution_count": 617,
   "metadata": {},
   "outputs": [
    {
     "data": {
      "text/plain": [
       "1068"
      ]
     },
     "execution_count": 617,
     "metadata": {},
     "output_type": "execute_result"
    }
   ],
   "source": [
    "data['NIT'].count()"
   ]
  },
  {
   "cell_type": "code",
   "execution_count": 618,
   "metadata": {},
   "outputs": [
    {
     "data": {
      "text/plain": [
       "1000"
      ]
     },
     "execution_count": 618,
     "metadata": {},
     "output_type": "execute_result"
    }
   ],
   "source": [
    "len(data['NIT'].unique().tolist())"
   ]
  },
  {
   "cell_type": "code",
   "execution_count": 619,
   "metadata": {},
   "outputs": [
    {
     "data": {
      "text/plain": [
       "1068"
      ]
     },
     "execution_count": 619,
     "metadata": {},
     "output_type": "execute_result"
    }
   ],
   "source": [
    "data['RAZON SOCIAL'].count()"
   ]
  },
  {
   "cell_type": "code",
   "execution_count": 620,
   "metadata": {},
   "outputs": [
    {
     "data": {
      "text/plain": [
       "1000"
      ]
     },
     "execution_count": 620,
     "metadata": {},
     "output_type": "execute_result"
    }
   ],
   "source": [
    "len(data['RAZON SOCIAL'].unique().tolist())"
   ]
  },
  {
   "cell_type": "markdown",
   "metadata": {},
   "source": [
    "Existen 68 empresas repetidas, con un analisis posterior unificaremos esas filas."
   ]
  },
  {
   "cell_type": "code",
   "execution_count": 621,
   "metadata": {},
   "outputs": [
    {
     "data": {
      "text/plain": [
       "array(['SUPERSOCIEDADES', 'SUPERSALUD', 'SUPERVIGILANCIA',\n",
       "       'SUPERFINANCIERA', 'SUPERSERVICIOS', 'SUPERSUCIEDADES'],\n",
       "      dtype=object)"
      ]
     },
     "execution_count": 621,
     "metadata": {},
     "output_type": "execute_result"
    }
   ],
   "source": [
    "data.SUPERVISOR.unique()"
   ]
  },
  {
   "cell_type": "code",
   "execution_count": 622,
   "metadata": {},
   "outputs": [
    {
     "data": {
      "text/plain": [
       "array(['Bogotá - Cundinamarca', 'Costa Atlántica', 'Costa Pacífica',\n",
       "       'Centro - Oriente', 'Antioquia', 'Costa Atlantica', 'Otros',\n",
       "       'Eje Cafetero', nan], dtype=object)"
      ]
     },
     "execution_count": 622,
     "metadata": {},
     "output_type": "execute_result"
    }
   ],
   "source": [
    "data.REGIÓN.unique()"
   ]
  },
  {
   "cell_type": "code",
   "execution_count": 623,
   "metadata": {},
   "outputs": [
    {
     "data": {
      "text/plain": [
       "array(['BOGOTA D.C.', 'MAGDALENA', 'VALLE', 'CORDOBA',\n",
       "       'NORTE DE SANTANDER', 'CUNDINAMARCA', 'ANTIOQUIA', 'ATLANTICO',\n",
       "       'GUAJIRA', 'CAUCA', 'SANTANDER', 'BOLIVAR', 'CASANARE', nan,\n",
       "       'RISARALDA', 'BOGOTÁ D.C.', 'CALDAS', 'META', 'BOYACA', 'HUILA',\n",
       "       'NARIÑO', 'CHOCO', 'SAN ANDRES Y PROVIDENCIA', 'TOLIMA', 'CESAR',\n",
       "       'SUCRE', 'QUINDIO'], dtype=object)"
      ]
     },
     "execution_count": 623,
     "metadata": {},
     "output_type": "execute_result"
    }
   ],
   "source": [
    "data['DEPARTAMENTO DOMICILIO'].unique()"
   ]
  },
  {
   "cell_type": "code",
   "execution_count": 624,
   "metadata": {},
   "outputs": [
    {
     "data": {
      "text/plain": [
       "array(['BOGOTA-D.C.-BOGOTA D.C.', 'SANTA-MARTA-MAGDALENA', 'CALI-VALLE',\n",
       "       'MONTERIA', 'CUCUTA-NORTE DE SANTANDER', 'COTA-CUNDINAMARCA',\n",
       "       'TOCANCIPA-CUNDINAMARCA', 'ENVIGADO-ANTIOQUIA',\n",
       "       'CHIA-CUNDINAMARCA', 'BARRANQUILLA-ATLANTICO',\n",
       "       'MEDELLIN-ANTIOQUIA', 'YUMBO-VALLE', 'PALMIRA-VALLE', 'RIOHACHA',\n",
       "       'CALDAS-ANTIOQUIA', 'GUACHENE-CAUCA', 'FLORIDABLANCA-SANTANDER',\n",
       "       'CARTAGENA-BOLIVAR', 'JAMUNDI-VALLE', 'LA-ESTRELLA-ANTIOQUIA',\n",
       "       'YOPAL', 'BELLO-ANTIOQUIA', 'MEDELLIN', 'CALOTO-CAUCA',\n",
       "       'VILLA-RICA-CAUCA', 'SANTANDER-DE-QUILICHAO-CAUCA',\n",
       "       'ITAGUI-ANTIOQUIA', 'SABANETA-ANTIOQUIA', 'MONTERIA-CORDOBA',\n",
       "       'MOSQUERA-CUNDINAMARCA', 'PUERTO-TEJADA-CAUCA', nan, 'BUGA-VALLE',\n",
       "       'CAJICA-CUNDINAMARCA', 'COPACABANA-ANTIOQUIA', 'CORINTO-CAUCA',\n",
       "       'FUNZA-CUNDINAMARCA', 'APARTADO-ANTIOQUIA',\n",
       "       'BUCARAMANGA-SANTANDER', 'GALAPA-ATLANTICO',\n",
       "       'CIENAGA-DE-ORO-CORDOBA', 'MADRID-CUNDINAMARCA',\n",
       "       'MANIZALES-CALDAS', 'SOLEDAD-ATLANTICO', 'GIRARDOTA-ANTIOQUIA',\n",
       "       'VILLAVICENCIO-META', 'DUITAMA-BOYACA', 'NEIVA',\n",
       "       'PEREIRA-RISARALDA', 'CANDELARIA-VALLE', 'TUMACO-NARINO', 'QUIBDO',\n",
       "       'PASTO', 'BARRANCABERMEJA-SANTANDER', 'PIEDECUESTA-SANTANDER',\n",
       "       'SAN-ANDRES-SAN ANDRES Y PROVIDENCIA', 'ZIPAQUIRA-CUNDINAMARCA',\n",
       "       'SIBATE-CUNDINAMARCA', 'TENJO-CUNDINAMARCA', 'IBAGUE-TOLIMA',\n",
       "       'POPAYAN', 'VALLEDUPAR', 'MAICAO', 'MALAMBO-ATLANTICO',\n",
       "       'SINCELEJO-SUCRE', 'NEIVA-HUILA', 'SOACHA-CUNDINAMARCA',\n",
       "       'SOPO-CUNDINAMARCA', 'IPIALES', 'ZARZAL - VALLE DEL CAUCA',\n",
       "       'PUERTO-WILCHES-SANTANDER', 'FACATATIVA-CUNDINAMARCA',\n",
       "       'BARBOSA-ANTIOQUIA', 'FUQUENE-CUNDINAMARCA',\n",
       "       'SANTA-ROSA-DE-OSOS-ANTIOQUIA', 'DOS-QUEBRADAS-RISARALDA',\n",
       "       'RIONEGRO-ANTIOQUIA', 'CHINCHINA-CALDAS', 'GUARNE-ANTIOQUIA',\n",
       "       'MARINILLA-ANTIOQUIA', 'TURBACO-BOLIVAR', 'SANTA-FE-BOGOTA D.C.',\n",
       "       'TULUA-VALLE', 'AMAGA-ANTIOQUIA', 'GIRON-SANTANDER',\n",
       "       'ARMENIA-QUINDIO'], dtype=object)"
      ]
     },
     "execution_count": 624,
     "metadata": {},
     "output_type": "execute_result"
    }
   ],
   "source": [
    "data['CIUDAD DOMICILIO'].unique()"
   ]
  },
  {
   "cell_type": "code",
   "execution_count": 625,
   "metadata": {},
   "outputs": [
    {
     "data": {
      "text/plain": [
       "array(['C2711 - Fabricación de motores, generadores y transformadores eléctricos',\n",
       "       'G4610 - Comercio al por mayor a cambio de una retribución o por contrata',\n",
       "       'F4111 - Construcción de edificios residenciales',\n",
       "       'O8430- Actividades de planes de seguridad social de afiliacion obligatoria',\n",
       "       'C2392 - Fabricación de materiales de arcilla para la construcción',\n",
       "       'G4645 - Comercio al por mayor de productos farmacéuticos, medicinales, cosméticos y de tocador',\n",
       "       'C1312 - Tejeduría de productos textiles',\n",
       "       'G4664 - Comercio al por mayor de productos químicos básicos, cauchos y plásticos en formas primarias y productos químicos de uso agropecuario',\n",
       "       'C1051 - Elaboración de productos de molinería',\n",
       "       'C2599 - Fabricación de otros productos elaborados de metal n.c.p.',\n",
       "       'C1410 - Confección de prendas de vestir, excepto prendas de piel',\n",
       "       'B0910 - Actividades de apoyo para la extracción de petróleo y de gas natural',\n",
       "       'N8299 - Otras actividades de servicio de apoyo a las empresas n.c.p.',\n",
       "       'C1089 - Elaboración de otros productos alimenticios n.c.p.',\n",
       "       'C1061 - Trilla de café',\n",
       "       'G4620 - Comercio al por mayor de materias primas agropecuarias; animales vivos',\n",
       "       'J6202 - Actividades de consultoría informática y actividades de administración de instalaciones informáticas',\n",
       "       'G4661 - Comercio al por mayor de combustibles sólidos, líquidos, gaseosos y productos conexos',\n",
       "       'G4741 - Comercio al por menor de computadores, equipos periféricos, programas de informática y equipos de telecomunicaciones en establecimientos especializados',\n",
       "       'C1030 - Elaboración de aceites y grasas de origen vegetal y animal',\n",
       "       'G4771 - Comercio al por menor de prendas de vestir y sus accesorios (incluye artículos de piel) en establecimientos especializados',\n",
       "       'G4632 - Comercio al por mayor de bebidas y tabaco',\n",
       "       'N8010 - Actividades de seguridad privada',\n",
       "       'K6613 - Otras actividades relacionadas con el mercado de valores',\n",
       "       'C2410 - Industrias básicas de hierro y de acero',\n",
       "       'G4711 - Comercio al por menor en establecimientos no especializados con surtido compuesto principalmente por alimentos, bebidas o tabaco',\n",
       "       'M7310 - Publicidad', 'D3511 - Generación de energía eléctrica',\n",
       "       'C1071 - Elaboración y refinación de azúcar',\n",
       "       'Q8699- Otras actividades de atencion de la salud humana',\n",
       "       'G4651 - Comercio al por mayor de computadores, equipo periférico y programas de informática',\n",
       "       'C1090 - Elaboración de alimentos preparados para animales',\n",
       "       'G4719 - Comercio al por menor en establecimientos no especializados, con surtido compuesto principalmente por productos diferentes de alimentos (víveres en general), bebidas y tabaco',\n",
       "       'C2394 - Fabricación de cemento, cal y yeso',\n",
       "       'L6810 - Actividades inmobiliarias realizadas con bienes propios o arrendados',\n",
       "       'B0610 - Extracción de petróleo crudo',\n",
       "       'C2393 - Fabricación de otros productos de cerámica y porcelana',\n",
       "       'C1921 - Fabricación de productos de la refinación del petróleo',\n",
       "       'C2229 - Fabricación de artículos de plástico n.c.p.',\n",
       "       'D3520 - Producción de gas; distribución de combustibles gaseosos por tuberías',\n",
       "       'F4210 - Construcción de carreteras y vías de ferrocarril',\n",
       "       'I5511 - Alojamiento en hoteles',\n",
       "       'C2920 - Fabricación de carrocerías para vehículos automotores; fabricación de remolques y semirremolques',\n",
       "       'C2011 - Fabricación de sustancias y productos químicos básicos',\n",
       "       'C1104 - Elaboración de bebidas no alcohólicas, producción de aguas minerales y de otras aguas embotelladas',\n",
       "       'J6190 - Otras actividades de telecomunicaciones',\n",
       "       'M7020 - Actividades de consultaría de gestión',\n",
       "       'J6209 - Otras actividades de tecnologías de información y actividades de servicios informáticos',\n",
       "       'C2029 - Fabricación de otros productos químicos n.c.p.',\n",
       "       'C1082 - Elaboración de cacao, chocolate y productos de confitería',\n",
       "       'C1709 - Fabricación de otros artículos de papel y cartón',\n",
       "       'C2013 - Fabricación de plásticos en formas primarias',\n",
       "       'I5611 - Expendio a la mesa de comidas preparadas',\n",
       "       'C2100 - Fabricación de productos farmacéuticos, sustancias químicas medicinales y productos botánicos de uso farmacéutico',\n",
       "       'A0145 - Cría de aves de corral',\n",
       "       'G4511 - Comercio de vehículos automotores nuevos',\n",
       "       'C1910 - Fabricación de productos de hornos de coque',\n",
       "       'F4329 - Otras instalaciones especializadas',\n",
       "       'C1392 - Confeccion de articulos con materiales textiles, excepto prendas de vestir',\n",
       "       'F4290 - Construcción de otras obras de ingeniería civil',\n",
       "       'C2731 - Fabricación de hilos y cables eléctricos y de fibra óptica',\n",
       "       'C2012 - Fabricación de abonos y compuestos inorgánicos nitrogenados',\n",
       "       'H5229 - Otras actividades complementarias al transporte',\n",
       "       'H4930 - Transporte por tuberías',\n",
       "       'C3120 - Fabricación de colchones y somieres',\n",
       "       'S9603 - Pompas fúnebres y actividades relacionadas',\n",
       "       'Q8610 - Actividades de hospitales y clinicas, con internacion',\n",
       "       'N7820 - Actividades de agencias de empleo temporal',\n",
       "       'C2023 - Fabricación de jabones y detergentes, preparados para limpiar y pulir; perfumes y preparados de tocador',\n",
       "       'D3514 - Comercializacion de energia electrica',\n",
       "       'M7110 - Actividades de arquitectura e ingeniería y otras actividades conexas de consultoría técnica',\n",
       "       'M7010- Actividades de administración empresarial',\n",
       "       'C2310 - Fabricación de vidrio y productos de vidrio', nan,\n",
       "       'C1811 - Actividades de impresión',\n",
       "       'N7710 - Alquiler y arrendamiento de vehículos automotores',\n",
       "       'J6201 - Actividades de desarrollo de sistemas informáticos (planificación, análisis, diseño, programación, pruebas)',\n",
       "       'G4773 - Comercio al por menor de productos farmacéuticos y medicinales, cosméticos y artículos de tocador en establecimientos especializados',\n",
       "       'I5619 - Otros tipos de expendio de comidas preparadas n.c.p.',\n",
       "       'A0125 - Cultivo de flor de corte',\n",
       "       'D3512 - Transmision d energia electrica',\n",
       "       'G4729 - Comercio al por menor de otros productos alimenticios n.c.p., en establecimientos especializados',\n",
       "       'G4690 - Comercio al por mayor no especializado',\n",
       "       'C1040 - Elaboración de productos lácteos',\n",
       "       'J6130 - Actividades de telecomunicación satelital',\n",
       "       'C2750 - Fabricación de aparatos de uso doméstico',\n",
       "       'K6511- Seguros generales',\n",
       "       'C2221 - Fabricación de formas básicas de plástico',\n",
       "       'G4652 - Comercio al por mayor de equipo, partes y piezas electrónicos y de telecomunicaciones',\n",
       "       'N8129 - Otras actividades de limpieza de edificios e instalaciones industriales',\n",
       "       'C2030 - Fabricación de fibras sintéticas y artificiales',\n",
       "       'G4669 - Comercio al por mayor de otros productos n.c.p.',\n",
       "       'C1052 - Elaboración de almidones y productos derivados del almidón',\n",
       "       'C1062 - Descafeinado, tostión y molienda del café',\n",
       "       'C3091 - Fabricación de motocicletas',\n",
       "       'C2790 - Fabricación de otros tipos de equipo eléctrico n.c.p.',\n",
       "       'G4659 - Comercio al por mayor de otros tipos de maquinaria y equipo n.c.p.',\n",
       "       'A0122 - Cultivo de plátano y banano',\n",
       "       'C2021 - Fabricación de plaguicidas y otros productos químicos de uso agropecuario',\n",
       "       'C1702 - Fabricación de papel y cartón ondulado (corrugado); fabricación de envases, empaques y de embalajes de papel y cartón',\n",
       "       'B0620 - Extracción de gas natural',\n",
       "       'C2421 - Industrias básicas de metales preciosos',\n",
       "       'G4663 - Comercio al por mayor de materiales de construcción, artículos de ferretería, pinturas, productos de vidrio, equipo y materiales de fontanería y calefacción',\n",
       "       'G4774 - Comercio al por menor de otros productos nuevos en establecimientos especializados',\n",
       "       'J6120 - Actividades de telecomunicaciones inalámbricas',\n",
       "       'C2732 - Fabricación de dispositivos de cableado',\n",
       "       'C1011 - Procesamiento y conservación de carne y productos cárnicos',\n",
       "       'C1083 - Elaboración de macarrones, fideos, alcuzcuz y productos farináceos similares',\n",
       "       'C1701 - Fabricación de pulpas (pastas) celulósicas; papel y cartón',\n",
       "       'G4530 - Comercio de partes, piezas (autopartes) y accesorios (lujos) para vehículos automotores',\n",
       "       'K6494 - Otras actividades de distribución de fondos',\n",
       "       'G4631 - Comercio al por mayor de productos alimenticios',\n",
       "       'K6492 - Actividades financieras de fondos de empleados y otras formas asociativas del sector solidario',\n",
       "       'G4731 - Comercio al por menor de combustible para automotores',\n",
       "       'G4772 - Comercio al por menor de todo tipo de calzado y artículos de cuero y sucedáneos del cuero en establecimientos especializados',\n",
       "       'H5210 - Almacenamiento y depósito',\n",
       "       'K6499 - Otras actividades de servicio financiero, excepto las de seguros y pensiones n.c.p.',\n",
       "       'G4752 - Comercio al por menor de artículos de ferretería, pinturas y productos de vidrio en establecimientos especializados',\n",
       "       'C1103 - Producción de malta, elaboración de cervezas y otras bebidas malteadas',\n",
       "       'N8220 - Actividades de centros de llamadas (Call center)',\n",
       "       'M7010 - Actividades de administración empresarial',\n",
       "       'G4799 - Otros tipos de comercio al por menor no realizado en establecimientos, puestos de venta o mercados',\n",
       "       'I5612 - Expendio por autoservicio de comidas preparadas',\n",
       "       'C3314 - Mantenimiento y reparación especializado de equipo eléctrico',\n",
       "       'G4665 - Comercio al por mayor de desperdicios, desechos y chatarra',\n",
       "       'A0144 - Cría de ganado porcino',\n",
       "       'C2910 - Fabricación de vehículos automotores y sus motores',\n",
       "       'K6619 - Otras actividades auxiliares de las actividades de servicios financieros n.c.p.',\n",
       "       'J6110 - Actividades de telecomunicaciones alámbricas',\n",
       "       'G4761 - Comercio al por menor de libros, periódicos, materiales y artículos de papelería y escritorio, en establecimientos especializados',\n",
       "       'C2395 - Fabricación de artículos de hormigón, cemento y yeso',\n",
       "       'C1081 - Elaboración de productos de panadería',\n",
       "       'C2930 - Fabricación de partes, piezas (autopartes) y accesorios (lujos) para vehículos automotores',\n",
       "       'G4641 - Comercio al por mayor de productos textiles, productos confeccionados para uso doméstico',\n",
       "       'S9511 - Mantenimiento y reparación de computadores y de equipo periférico',\n",
       "       'C1521 - Fabricación de calzado de cuero y piel, con cualquier tipo de suela',\n",
       "       'B0723 - Extracción de minerales de níquel',\n",
       "       'C2720 - Fabricación de pilas, baterías y acumuladores eléctricos',\n",
       "       'G4644 - Comercio al por mayor de aparatos y equipo de uso doméstico',\n",
       "       'C2592 - Tratamiento y revestimiento de metales; mecanizado',\n",
       "       'D3513- Distribución de energía electrica',\n",
       "       'C3312 - Mantenimiento y reparación especializado de maquinaria y equipo',\n",
       "       'D3511 - Generación de energia electrica',\n",
       "       'H5111 - Transporte aereo nacional de pasajeros',\n",
       "       'B0729 - Extracción de otros minerales metalíferos no ferrosos n.c.p.',\n",
       "       'C1399 - Fabricación de otros artículos textiles n.c.p.',\n",
       "       'J6010 - Actividades de programación y transmisión en el servicio de radiodifusión sonora',\n",
       "       'F4390 - Otras actividades especializadas para la construcción de edificios y obras de ingeniería civil',\n",
       "       'J5914 - Actividades de exhibición de películas cinematográficas y videos',\n",
       "       'C1311 - Preparación e hilatura de fibras textiles',\n",
       "       'H4921 - Transporte de pasajeros',\n",
       "       'C2022 - Fabricación de pinturas, barnices y revestimientos similares, tintas para impresión y masillas',\n",
       "       'K6521- Servicios de seguros sociales',\n",
       "       'C1012 - Procesamiento y conservación de pescados, crustáceos y moluscos',\n",
       "       'G4722 - Comercio al por menor de leche, productos lácteos y huevos, en establecimientos especializados',\n",
       "       'N7730 - Alquiler y arrendamiento de otros tipos de maquinaria, equipo y bienes tangibles n.c.p.',\n",
       "       'B0510 - Extracción de hulla (carbón de piedra)',\n",
       "       'G4751 - Comercio al por menor de productos textiles en establecimientos especializados',\n",
       "       'C1392 - Confección de artículos con materiales textiles, excepto prendas de vestir',\n",
       "       'B0990 - Actividades de apoyo para otras actividades de explotación de minas y canteras',\n",
       "       'G4754 - Comercio al por menor de electrodomésticos y gasodomésticos de uso doméstico, muebles y equipos de iluminación',\n",
       "       'G4662 - Comercio al por mayor de metales y productos metalíferos',\n",
       "       'M7490 - Otras actividades profesionales, científicas y técnicas n.c.p.',\n",
       "       'H5224 - Manipulación de carga',\n",
       "       'D3512 - Transmisión de energía eléctrica',\n",
       "       'J6020 - Actividades de programación y transmisión de televisión',\n",
       "       'M6920 - Actividades de contabilidad, teneduría de libros, auditoría financiera y asesoría tributaria',\n",
       "       'G4723 - Comercio al por menor de carnes (incluye aves de corral), productos cárnicos, pescados y productos de mar, en establecimientos especializados',\n",
       "       'C1513 - Fabricación de artículos de viaje, bolsos de mano y artículos similares; artículos de talabartería y guarnicionería elaborados en otros materiales',\n",
       "       'J6311 - Procesamiento de datos, alojamiento (hosting) y actividades relacionadas',\n",
       "       'C1620 - Fabricación de hojas de madera para enchapado; fabricación de tableros contrachapados, tableros laminados, tableros de partículas y otros tableros y paneles',\n",
       "       'C3290 - Otras industrias manufactureras n.c.p.',\n",
       "       'J6399 - Otras actividades de servicio de información n.c.p.',\n",
       "       'C2030 - Fabricacion de fibras sinteticas y artificiales',\n",
       "       'N7911 - Actividades de las agencias de viaje',\n",
       "       'B0722 - Extracción de oro y otros metales preciosos',\n",
       "       'F4220 - Construcción de proyectos de servicio público',\n",
       "       'C2211 - Fabricación de llantas y neumáticos de caucho',\n",
       "       'B0899 - Extracción de otros minerales no metálicos n.c.p.',\n",
       "       'C1522 - Fabricación de otros tipos de calzado, excepto calzado de cuero y piel',\n",
       "       'C1312 - Tejeduria de productos textiles',\n",
       "       'C2511 - Fabricación de productos metálicos para uso estructural',\n",
       "       'I5613 - Expendio de comidas preparadas en cafeterías',\n",
       "       'C1040 - Elaboración de productos lacteos',\n",
       "       'G4799 - Otros tipos de comercio al por menos no realizado en establecimientos puestos de venta o mercados',\n",
       "       'G4643 - Comercio al por mayor de calzado',\n",
       "       'D3513- Dsitribución de energía electrica',\n",
       "       'C2432 - Fundición de metales no ferrosos',\n",
       "       'N8020 - Actividades de servicios de sistemas de seguridad',\n",
       "       'C1020 - Procesamiento y conservación de frutas, legumbres, hortalizas y tubérculos',\n",
       "       'F4312 - Preparación del terreno',\n",
       "       'B0520 - Extracción de carbón lignito',\n",
       "       'C1200 - Elaboración de productos de tabaco',\n",
       "       'C2219 - Fabricación de formas básicas de caucho y otros productos de caucho n.c.p.',\n",
       "       'N7721 - Alquiler y arrendamiento de equipo recreativo y deportivo',\n",
       "       'N7830 - Otras actividades de suministro de recurso humano'],\n",
       "      dtype=object)"
      ]
     },
     "execution_count": 625,
     "metadata": {},
     "output_type": "execute_result"
    }
   ],
   "source": [
    "data.CIIU.unique()"
   ]
  },
  {
   "cell_type": "code",
   "execution_count": 626,
   "metadata": {},
   "outputs": [
    {
     "data": {
      "text/plain": [
       "array(['MANUFACTURA', 'COMERCIO', 'CONSTRUCCIÓN', 'SERVICIOS',\n",
       "       'MINERO-HIDROCARBUROS', nan, 'AGROPECUARIO', 'CONSTRUCCION'],\n",
       "      dtype=object)"
      ]
     },
     "execution_count": 626,
     "metadata": {},
     "output_type": "execute_result"
    }
   ],
   "source": [
    "data.MACROSECTOR.unique()"
   ]
  },
  {
   "cell_type": "code",
   "execution_count": 627,
   "metadata": {},
   "outputs": [
    {
     "data": {
      "text/plain": [
       "array(['NIIF PLENAS-GRUPO 1', 'NIIF PYMES-GRUPO 2',\n",
       "       'REGIMEN R 414 de 2014 - CGN'], dtype=object)"
      ]
     },
     "execution_count": 627,
     "metadata": {},
     "output_type": "execute_result"
    }
   ],
   "source": [
    "data['GRUPO EN NIIF'].unique()"
   ]
  },
  {
   "cell_type": "markdown",
   "metadata": {},
   "source": [
    "<h1>Preparación de los datos</h1>"
   ]
  },
  {
   "cell_type": "markdown",
   "metadata": {},
   "source": [
    "<h3>Preparación para SUPERVISORES</h3>"
   ]
  },
  {
   "cell_type": "markdown",
   "metadata": {},
   "source": [
    "Cambiamos el typo de SUPERSUCIEDADES a SUPERSOCIEDADES"
   ]
  },
  {
   "cell_type": "code",
   "execution_count": 628,
   "metadata": {},
   "outputs": [],
   "source": [
    "data.loc[data['SUPERVISOR'].str.contains('SUPERSUCIEDADES'), 'SUPERVISOR'] = 'SUPERSOCIEDADES'"
   ]
  },
  {
   "cell_type": "markdown",
   "metadata": {},
   "source": [
    "<h3>Preparación para REGIÓN</h3>"
   ]
  },
  {
   "cell_type": "markdown",
   "metadata": {},
   "source": [
    "Eliminamos el nulo de REGIÓN poniendo la región que le corresponde a su departamento registrado y luego se soluciona el typo que hay entre Costa Atlantica a Costa Atlántica."
   ]
  },
  {
   "cell_type": "code",
   "execution_count": 629,
   "metadata": {},
   "outputs": [],
   "source": [
    "data['REGIÓN'].fillna('Costa Pacífica', inplace=True)"
   ]
  },
  {
   "cell_type": "code",
   "execution_count": 630,
   "metadata": {},
   "outputs": [],
   "source": [
    "data.loc[data['REGIÓN'].str.contains('Costa Atlantica'), 'REGIÓN'] = 'Costa Atlántica'"
   ]
  },
  {
   "cell_type": "markdown",
   "metadata": {},
   "source": [
    "<h3>Preparación para DEPARTAMENTO DOMICILIO</h3>"
   ]
  },
  {
   "cell_type": "markdown",
   "metadata": {},
   "source": [
    "Llenamos los nulos con la información que hay en CIUDAD DOMICILO, cambiamos el typo que hay entre BOGOTA D.C. a BOGOTÁ D.C."
   ]
  },
  {
   "cell_type": "code",
   "execution_count": 631,
   "metadata": {},
   "outputs": [],
   "source": [
    "for index in data[\"No.\"]:\n",
    "    if pd.isnull(data['DEPARTAMENTO DOMICILIO']).iloc[index-1]:\n",
    "        data.loc[index-1, 'DEPARTAMENTO DOMICILIO'] = data['CIUDAD DOMICILIO'].str.rsplit('-', n=1, expand=True)[1][index-1]"
   ]
  },
  {
   "cell_type": "code",
   "execution_count": 632,
   "metadata": {},
   "outputs": [],
   "source": [
    "data.loc[data['DEPARTAMENTO DOMICILIO'].str.contains('BOGOTÁ D.C.'), 'DEPARTAMENTO DOMICILIO'] = 'BOGOTA D.C.'"
   ]
  },
  {
   "cell_type": "markdown",
   "metadata": {},
   "source": [
    "<h3>Preparación para CIUDAD DOMICILIO</h3>"
   ]
  },
  {
   "cell_type": "markdown",
   "metadata": {},
   "source": [
    "Remplazamos todos los nulos con la ciudad que le corresponde al departamento y luego quitamos el departamento adicionado al nombre de la ciudad."
   ]
  },
  {
   "cell_type": "code",
   "execution_count": 633,
   "metadata": {},
   "outputs": [],
   "source": [
    "data.loc[pd.isnull(data['CIUDAD DOMICILIO']) & data['DEPARTAMENTO DOMICILIO'].str.contains('RISARALDA'), 'CIUDAD DOMICILIO'] = 'PEREIRA'"
   ]
  },
  {
   "cell_type": "code",
   "execution_count": 634,
   "metadata": {},
   "outputs": [],
   "source": [
    "data.loc[pd.isnull(data['CIUDAD DOMICILIO']) & data['DEPARTAMENTO DOMICILIO'].str.contains('BOGOTA D.C.'), 'CIUDAD DOMICILIO'] = 'BOGOTA D.C.'"
   ]
  },
  {
   "cell_type": "code",
   "execution_count": 635,
   "metadata": {},
   "outputs": [],
   "source": [
    "data.loc[pd.isnull(data['CIUDAD DOMICILIO']) & data['DEPARTAMENTO DOMICILIO'].str.contains('ANTIOQUIA'), 'CIUDAD DOMICILIO'] = 'MEDELLIN'"
   ]
  },
  {
   "cell_type": "code",
   "execution_count": 636,
   "metadata": {},
   "outputs": [],
   "source": [
    "data.loc[pd.isnull(data['CIUDAD DOMICILIO']) & data['DEPARTAMENTO DOMICILIO'].str.contains('VALLE'), 'CIUDAD DOMICILIO'] = 'CALI'"
   ]
  },
  {
   "cell_type": "code",
   "execution_count": 637,
   "metadata": {},
   "outputs": [],
   "source": [
    "for index in data[\"No.\"]:\n",
    "    data.loc[index-1, 'CIUDAD DOMICILIO'] = data['CIUDAD DOMICILIO'].str.rsplit('-', n=1, expand=True)[0][index-1]\n",
    "    data.loc[index-1, 'CIUDAD DOMICILIO'] = data['CIUDAD DOMICILIO'].str.replace('-', ' ')[index-1]"
   ]
  },
  {
   "cell_type": "markdown",
   "metadata": {},
   "source": [
    "<h3>Preparación para CIIU</h3>"
   ]
  },
  {
   "cell_type": "markdown",
   "metadata": {},
   "source": [
    "Eliminamos los nulos debido a que el análisis del modelo será sobre esos sectores y crearía sesgo ponerle alguna otra cosa."
   ]
  },
  {
   "cell_type": "code",
   "execution_count": 638,
   "metadata": {},
   "outputs": [],
   "source": [
    "data = data[pd.notnull(data['CIIU'])]"
   ]
  },
  {
   "cell_type": "markdown",
   "metadata": {},
   "source": [
    "<h3>Preparación para MACROSECTOR</h3>"
   ]
  },
  {
   "cell_type": "markdown",
   "metadata": {},
   "source": [
    "Se asignan los valores de macroservicio a los nulos tomando en cuenta el CIIU."
   ]
  },
  {
   "cell_type": "code",
   "execution_count": 639,
   "metadata": {},
   "outputs": [
    {
     "data": {
      "text/html": [
       "<div>\n",
       "<style scoped>\n",
       "    .dataframe tbody tr th:only-of-type {\n",
       "        vertical-align: middle;\n",
       "    }\n",
       "\n",
       "    .dataframe tbody tr th {\n",
       "        vertical-align: top;\n",
       "    }\n",
       "\n",
       "    .dataframe thead th {\n",
       "        text-align: right;\n",
       "    }\n",
       "</style>\n",
       "<table border=\"1\" class=\"dataframe\">\n",
       "  <thead>\n",
       "    <tr style=\"text-align: right;\">\n",
       "      <th></th>\n",
       "      <th>No.</th>\n",
       "      <th>NIT</th>\n",
       "      <th>RAZON SOCIAL</th>\n",
       "      <th>SUPERVISOR</th>\n",
       "      <th>REGIÓN</th>\n",
       "      <th>DEPARTAMENTO DOMICILIO</th>\n",
       "      <th>CIUDAD DOMICILIO</th>\n",
       "      <th>CIIU</th>\n",
       "      <th>MACROSECTOR</th>\n",
       "      <th>INGRESOS OPERACIONALES\\r\\n2018*</th>\n",
       "      <th>GANANCIA (PERDIDA) 2018</th>\n",
       "      <th>TOTAL ACTIVOS 2018</th>\n",
       "      <th>TOTAL PASIVOS 2018</th>\n",
       "      <th>TOTAL PATRIMONIO 2018</th>\n",
       "      <th>INGRESOS OPERACIONALES\\r\\n2017*</th>\n",
       "      <th>GANANCIA (PERDIDA) 2017</th>\n",
       "      <th>TOTAL ACTIVOS 2017</th>\n",
       "      <th>TOTAL PASIVOS 2017</th>\n",
       "      <th>TOTAL PATRIMONIO 2017</th>\n",
       "      <th>GRUPO EN NIIF</th>\n",
       "    </tr>\n",
       "  </thead>\n",
       "  <tbody>\n",
       "    <tr>\n",
       "      <th>43</th>\n",
       "      <td>44</td>\n",
       "      <td>860000580</td>\n",
       "      <td>MERCK S.A.</td>\n",
       "      <td>SUPERSOCIEDADES</td>\n",
       "      <td>Bogotá - Cundinamarca</td>\n",
       "      <td>BOGOTA D.C.</td>\n",
       "      <td>BOGOTA D.C.</td>\n",
       "      <td>G4645 - Comercio al por mayor de productos far...</td>\n",
       "      <td>NaN</td>\n",
       "      <td>3.838962e+09</td>\n",
       "      <td>1.190960e+09</td>\n",
       "      <td>2.652463e+09</td>\n",
       "      <td>502814010.0</td>\n",
       "      <td>2.149649e+09</td>\n",
       "      <td>2.921711e+09</td>\n",
       "      <td>245744300.0</td>\n",
       "      <td>1.417497e+09</td>\n",
       "      <td>$ 454919040</td>\n",
       "      <td>962578340.0</td>\n",
       "      <td>NIIF PLENAS-GRUPO 1</td>\n",
       "    </tr>\n",
       "    <tr>\n",
       "      <th>149</th>\n",
       "      <td>150</td>\n",
       "      <td>900412466</td>\n",
       "      <td>ELITE FLOWER FARMERS S.A.S</td>\n",
       "      <td>SUPERSOCIEDADES</td>\n",
       "      <td>Bogotá - Cundinamarca</td>\n",
       "      <td>BOGOTA D.C.</td>\n",
       "      <td>BOGOTA D.C.</td>\n",
       "      <td>A0125 - Cultivo de flor de corte</td>\n",
       "      <td>NaN</td>\n",
       "      <td>1.574298e+09</td>\n",
       "      <td>2.568508e+07</td>\n",
       "      <td>1.075761e+09</td>\n",
       "      <td>934752480.0</td>\n",
       "      <td>1.410082e+08</td>\n",
       "      <td>1.539791e+09</td>\n",
       "      <td>7581980.0</td>\n",
       "      <td>8.548953e+08</td>\n",
       "      <td>$ 739572210</td>\n",
       "      <td>115323090.0</td>\n",
       "      <td>NIIF PLENAS-GRUPO 1</td>\n",
       "    </tr>\n",
       "    <tr>\n",
       "      <th>856</th>\n",
       "      <td>857</td>\n",
       "      <td>800167919</td>\n",
       "      <td>STILOTEX S.A.S</td>\n",
       "      <td>SUPERSOCIEDADES</td>\n",
       "      <td>Bogotá - Cundinamarca</td>\n",
       "      <td>BOGOTA D.C.</td>\n",
       "      <td>BOGOTA D.C.</td>\n",
       "      <td>G4641 - Comercio al por mayor de productos tex...</td>\n",
       "      <td>NaN</td>\n",
       "      <td>1.498291e+09</td>\n",
       "      <td>1.714209e+07</td>\n",
       "      <td>1.365376e+09</td>\n",
       "      <td>996514560.0</td>\n",
       "      <td>3.688611e+08</td>\n",
       "      <td>1.503401e+09</td>\n",
       "      <td>35554320.0</td>\n",
       "      <td>1.402621e+09</td>\n",
       "      <td>$ 1043824370</td>\n",
       "      <td>358796200.0</td>\n",
       "      <td>NIIF PLENAS-GRUPO 1</td>\n",
       "    </tr>\n",
       "  </tbody>\n",
       "</table>\n",
       "</div>"
      ],
      "text/plain": [
       "     No.        NIT                RAZON SOCIAL       SUPERVISOR  \\\n",
       "43    44  860000580                  MERCK S.A.  SUPERSOCIEDADES   \n",
       "149  150  900412466  ELITE FLOWER FARMERS S.A.S  SUPERSOCIEDADES   \n",
       "856  857  800167919              STILOTEX S.A.S  SUPERSOCIEDADES   \n",
       "\n",
       "                    REGIÓN DEPARTAMENTO DOMICILIO CIUDAD DOMICILIO  \\\n",
       "43   Bogotá - Cundinamarca            BOGOTA D.C.      BOGOTA D.C.   \n",
       "149  Bogotá - Cundinamarca            BOGOTA D.C.      BOGOTA D.C.   \n",
       "856  Bogotá - Cundinamarca            BOGOTA D.C.      BOGOTA D.C.   \n",
       "\n",
       "                                                  CIIU MACROSECTOR  \\\n",
       "43   G4645 - Comercio al por mayor de productos far...         NaN   \n",
       "149                   A0125 - Cultivo de flor de corte         NaN   \n",
       "856  G4641 - Comercio al por mayor de productos tex...         NaN   \n",
       "\n",
       "     INGRESOS OPERACIONALES\\r\\n2018*  GANANCIA (PERDIDA) 2018  \\\n",
       "43                      3.838962e+09             1.190960e+09   \n",
       "149                     1.574298e+09             2.568508e+07   \n",
       "856                     1.498291e+09             1.714209e+07   \n",
       "\n",
       "     TOTAL ACTIVOS 2018  TOTAL PASIVOS 2018  TOTAL PATRIMONIO 2018  \\\n",
       "43         2.652463e+09         502814010.0           2.149649e+09   \n",
       "149        1.075761e+09         934752480.0           1.410082e+08   \n",
       "856        1.365376e+09         996514560.0           3.688611e+08   \n",
       "\n",
       "     INGRESOS OPERACIONALES\\r\\n2017*  GANANCIA (PERDIDA) 2017  \\\n",
       "43                      2.921711e+09              245744300.0   \n",
       "149                     1.539791e+09                7581980.0   \n",
       "856                     1.503401e+09               35554320.0   \n",
       "\n",
       "     TOTAL ACTIVOS 2017 TOTAL PASIVOS 2017  TOTAL PATRIMONIO 2017  \\\n",
       "43         1.417497e+09        $ 454919040            962578340.0   \n",
       "149        8.548953e+08        $ 739572210            115323090.0   \n",
       "856        1.402621e+09       $ 1043824370            358796200.0   \n",
       "\n",
       "           GRUPO EN NIIF  \n",
       "43   NIIF PLENAS-GRUPO 1  \n",
       "149  NIIF PLENAS-GRUPO 1  \n",
       "856  NIIF PLENAS-GRUPO 1  "
      ]
     },
     "execution_count": 639,
     "metadata": {},
     "output_type": "execute_result"
    }
   ],
   "source": [
    "filtro = data[pd.isnull(data[\"MACROSECTOR\"])]\n",
    "filtro.head()"
   ]
  },
  {
   "cell_type": "code",
   "execution_count": 640,
   "metadata": {},
   "outputs": [],
   "source": [
    "# If the ciiu contains g4645 then the macrosector is \"COMERCIO\"\n",
    "data.loc[data['CIIU'].str.contains('G4645'), 'MACROSECTOR'] = 'COMERCIO'\n",
    "\n",
    "# If the ciiu contains g4641 then the macrosector is \"COMERCIO\"\n",
    "data.loc[data['CIIU'].str.contains('G4641'), 'MACROSECTOR'] = 'COMERCIO'\n",
    "\n",
    "# If the ciiu contains a0125 then the macrosector is \"AGROPECUARIO\"\n",
    "data.loc[data['CIIU'].str.contains('A0125'), 'MACROSECTOR'] = 'AGROPECUARIO'"
   ]
  },
  {
   "cell_type": "code",
   "execution_count": 641,
   "metadata": {},
   "outputs": [
    {
     "data": {
      "text/plain": [
       "array(['MANUFACTURA', 'COMERCIO', 'CONSTRUCCIÓN', 'SERVICIOS',\n",
       "       'MINERO-HIDROCARBUROS', 'AGROPECUARIO', 'CONSTRUCCION'],\n",
       "      dtype=object)"
      ]
     },
     "execution_count": 641,
     "metadata": {},
     "output_type": "execute_result"
    }
   ],
   "source": [
    "data['MACROSECTOR'].unique()"
   ]
  },
  {
   "cell_type": "code",
   "execution_count": 642,
   "metadata": {},
   "outputs": [
    {
     "data": {
      "text/plain": [
       "No.                                0.000000\n",
       "NIT                                0.000000\n",
       "RAZON SOCIAL                       0.000000\n",
       "SUPERVISOR                         0.000000\n",
       "REGIÓN                             0.000000\n",
       "DEPARTAMENTO DOMICILIO             0.000000\n",
       "CIUDAD DOMICILIO                   0.000000\n",
       "CIIU                               0.000000\n",
       "MACROSECTOR                        0.000000\n",
       "INGRESOS OPERACIONALES\\r\\n2018*    0.000937\n",
       "GANANCIA (PERDIDA) 2018            0.000937\n",
       "TOTAL ACTIVOS 2018                 0.001874\n",
       "TOTAL PASIVOS 2018                 0.001874\n",
       "TOTAL PATRIMONIO 2018              0.003749\n",
       "INGRESOS OPERACIONALES\\r\\n2017*    0.004686\n",
       "GANANCIA (PERDIDA) 2017            0.000937\n",
       "TOTAL ACTIVOS 2017                 0.001874\n",
       "TOTAL PASIVOS 2017                 0.000000\n",
       "TOTAL PATRIMONIO 2017              0.000000\n",
       "GRUPO EN NIIF                      0.000000\n",
       "dtype: float64"
      ]
     },
     "execution_count": 642,
     "metadata": {},
     "output_type": "execute_result"
    }
   ],
   "source": [
    "data.isnull().mean()"
   ]
  },
  {
   "cell_type": "markdown",
   "metadata": {},
   "source": [
    "<h3>Preparación para ACTIVOS/PASIVOS/PATRIMONIO</h3>"
   ]
  },
  {
   "cell_type": "markdown",
   "metadata": {},
   "source": [
    "Primero convertimos la columna TOTAL PASIVOS 2017 a float quitando el caracter $"
   ]
  },
  {
   "cell_type": "code",
   "execution_count": 643,
   "metadata": {},
   "outputs": [],
   "source": [
    "data.loc[data['TOTAL PASIVOS 2017'].str.contains('$', regex=False), 'TOTAL PASIVOS 2017'] = data['TOTAL PASIVOS 2017'].str.replace('$', '', regex=False).str.replace(' ', '', regex=False)\n",
    "data['TOTAL PASIVOS 2017'] = pd.to_numeric(data['TOTAL PASIVOS 2017'], errors='coerce')"
   ]
  },
  {
   "cell_type": "code",
   "execution_count": 644,
   "metadata": {},
   "outputs": [
    {
     "data": {
      "text/plain": [
       "No.                                  int64\n",
       "NIT                                  int64\n",
       "RAZON SOCIAL                        object\n",
       "SUPERVISOR                          object\n",
       "REGIÓN                              object\n",
       "DEPARTAMENTO DOMICILIO              object\n",
       "CIUDAD DOMICILIO                    object\n",
       "CIIU                                object\n",
       "MACROSECTOR                         object\n",
       "INGRESOS OPERACIONALES\\r\\n2018*    float64\n",
       "GANANCIA (PERDIDA) 2018            float64\n",
       "TOTAL ACTIVOS 2018                 float64\n",
       "TOTAL PASIVOS 2018                 float64\n",
       "TOTAL PATRIMONIO 2018              float64\n",
       "INGRESOS OPERACIONALES\\r\\n2017*    float64\n",
       "GANANCIA (PERDIDA) 2017            float64\n",
       "TOTAL ACTIVOS 2017                 float64\n",
       "TOTAL PASIVOS 2017                 float64\n",
       "TOTAL PATRIMONIO 2017              float64\n",
       "GRUPO EN NIIF                       object\n",
       "dtype: object"
      ]
     },
     "execution_count": 644,
     "metadata": {},
     "output_type": "execute_result"
    }
   ],
   "source": [
    "data.infer_objects().dtypes\n",
    "data.dtypes"
   ]
  },
  {
   "cell_type": "markdown",
   "metadata": {},
   "source": [
    "Se aplica la formula del patrimonio para hallar los valores faltantes.<br>\n",
    "<i>Patrimonio = Activos - Pasivos</i>"
   ]
  },
  {
   "cell_type": "code",
   "execution_count": 645,
   "metadata": {},
   "outputs": [],
   "source": [
    "nan_rows = data[data.isnull().T.any().T]"
   ]
  },
  {
   "cell_type": "code",
   "execution_count": 646,
   "metadata": {},
   "outputs": [
    {
     "name": "stdout",
     "output_type": "stream",
     "text": [
      "(19, 20)\n"
     ]
    },
    {
     "data": {
      "text/html": [
       "<div>\n",
       "<style scoped>\n",
       "    .dataframe tbody tr th:only-of-type {\n",
       "        vertical-align: middle;\n",
       "    }\n",
       "\n",
       "    .dataframe tbody tr th {\n",
       "        vertical-align: top;\n",
       "    }\n",
       "\n",
       "    .dataframe thead th {\n",
       "        text-align: right;\n",
       "    }\n",
       "</style>\n",
       "<table border=\"1\" class=\"dataframe\">\n",
       "  <thead>\n",
       "    <tr style=\"text-align: right;\">\n",
       "      <th></th>\n",
       "      <th>No.</th>\n",
       "      <th>NIT</th>\n",
       "      <th>RAZON SOCIAL</th>\n",
       "      <th>SUPERVISOR</th>\n",
       "      <th>REGIÓN</th>\n",
       "      <th>DEPARTAMENTO DOMICILIO</th>\n",
       "      <th>CIUDAD DOMICILIO</th>\n",
       "      <th>CIIU</th>\n",
       "      <th>MACROSECTOR</th>\n",
       "      <th>INGRESOS OPERACIONALES\\r\\n2018*</th>\n",
       "      <th>GANANCIA (PERDIDA) 2018</th>\n",
       "      <th>TOTAL ACTIVOS 2018</th>\n",
       "      <th>TOTAL PASIVOS 2018</th>\n",
       "      <th>TOTAL PATRIMONIO 2018</th>\n",
       "      <th>INGRESOS OPERACIONALES\\r\\n2017*</th>\n",
       "      <th>GANANCIA (PERDIDA) 2017</th>\n",
       "      <th>TOTAL ACTIVOS 2017</th>\n",
       "      <th>TOTAL PASIVOS 2017</th>\n",
       "      <th>TOTAL PATRIMONIO 2017</th>\n",
       "      <th>GRUPO EN NIIF</th>\n",
       "    </tr>\n",
       "  </thead>\n",
       "  <tbody>\n",
       "    <tr>\n",
       "      <th>40</th>\n",
       "      <td>41</td>\n",
       "      <td>890900943</td>\n",
       "      <td>Colombiana de comercio S.A.</td>\n",
       "      <td>SUPERSOCIEDADES</td>\n",
       "      <td>Bogotá - Cundinamarca</td>\n",
       "      <td>BOGOTA D.C.</td>\n",
       "      <td>BOGOTA D.C.</td>\n",
       "      <td>G4719 - Comercio al por menor en establecimien...</td>\n",
       "      <td>COMERCIO</td>\n",
       "      <td>5.773518e+10</td>\n",
       "      <td>1.908419e+09</td>\n",
       "      <td>3.166454e+10</td>\n",
       "      <td>1.456830e+10</td>\n",
       "      <td>1.709624e+10</td>\n",
       "      <td>NaN</td>\n",
       "      <td>1.438890e+09</td>\n",
       "      <td>2.950819e+10</td>\n",
       "      <td>1.302890e+10</td>\n",
       "      <td>1.647929e+10</td>\n",
       "      <td>NIIF PLENAS-GRUPO 1</td>\n",
       "    </tr>\n",
       "    <tr>\n",
       "      <th>121</th>\n",
       "      <td>122</td>\n",
       "      <td>830037248</td>\n",
       "      <td>CODENSA S.A. E.S.P.</td>\n",
       "      <td>SUPERSERVICIOS</td>\n",
       "      <td>Bogotá - Cundinamarca</td>\n",
       "      <td>BOGOTA D.C.</td>\n",
       "      <td>BOGOTA D.C.</td>\n",
       "      <td>D3514 - Comercializacion de energia electrica</td>\n",
       "      <td>SERVICIOS</td>\n",
       "      <td>5.059809e+10</td>\n",
       "      <td>6.086408e+09</td>\n",
       "      <td>6.824665e+10</td>\n",
       "      <td>4.056828e+10</td>\n",
       "      <td>NaN</td>\n",
       "      <td>4.541572e+10</td>\n",
       "      <td>6.234860e+09</td>\n",
       "      <td>6.184186e+10</td>\n",
       "      <td>3.535367e+10</td>\n",
       "      <td>2.648819e+10</td>\n",
       "      <td>NIIF PLENAS-GRUPO 1</td>\n",
       "    </tr>\n",
       "    <tr>\n",
       "      <th>361</th>\n",
       "      <td>362</td>\n",
       "      <td>830078515</td>\n",
       "      <td>COLUMBUS NETWORKS DE COLOMBIA LTDA</td>\n",
       "      <td>SUPERSOCIEDADES</td>\n",
       "      <td>Bogotá - Cundinamarca</td>\n",
       "      <td>BOGOTA D.C.</td>\n",
       "      <td>BOGOTA D.C.</td>\n",
       "      <td>J6110 - Actividades de telecomunicaciones alám...</td>\n",
       "      <td>SERVICIOS</td>\n",
       "      <td>2.207468e+09</td>\n",
       "      <td>-6.070797e+07</td>\n",
       "      <td>NaN</td>\n",
       "      <td>3.631087e+09</td>\n",
       "      <td>2.988918e+09</td>\n",
       "      <td>2.122095e+09</td>\n",
       "      <td>4.726838e+08</td>\n",
       "      <td>6.191184e+09</td>\n",
       "      <td>2.986656e+09</td>\n",
       "      <td>3.204528e+09</td>\n",
       "      <td>NIIF PLENAS-GRUPO 1</td>\n",
       "    </tr>\n",
       "    <tr>\n",
       "      <th>362</th>\n",
       "      <td>363</td>\n",
       "      <td>900411999</td>\n",
       "      <td>COFCO INTERNATIONAL COLOMBIA SAS</td>\n",
       "      <td>SUPERSOCIEDADES</td>\n",
       "      <td>Bogotá - Cundinamarca</td>\n",
       "      <td>BOGOTA D.C.</td>\n",
       "      <td>BOGOTA D.C.</td>\n",
       "      <td>G4620 - Comercio al por mayor de materias prim...</td>\n",
       "      <td>COMERCIO</td>\n",
       "      <td>2.226702e+09</td>\n",
       "      <td>2.446349e+07</td>\n",
       "      <td>1.237909e+09</td>\n",
       "      <td>1.081948e+09</td>\n",
       "      <td>1.559602e+08</td>\n",
       "      <td>NaN</td>\n",
       "      <td>-9.183090e+07</td>\n",
       "      <td>8.957149e+08</td>\n",
       "      <td>7.778971e+08</td>\n",
       "      <td>1.178178e+08</td>\n",
       "      <td>NIIF PLENAS-GRUPO 1</td>\n",
       "    </tr>\n",
       "    <tr>\n",
       "      <th>395</th>\n",
       "      <td>396</td>\n",
       "      <td>800191700</td>\n",
       "      <td>Cueros Velez SAS</td>\n",
       "      <td>SUPERSOCIEDADES</td>\n",
       "      <td>Antioquia</td>\n",
       "      <td>ANTIOQUIA</td>\n",
       "      <td>MEDELLIN</td>\n",
       "      <td>C1521 - Fabricación de calzado de cuero y piel...</td>\n",
       "      <td>MANUFACTURA</td>\n",
       "      <td>4.468194e+09</td>\n",
       "      <td>9.789428e+07</td>\n",
       "      <td>3.840059e+09</td>\n",
       "      <td>2.749046e+09</td>\n",
       "      <td>1.091013e+09</td>\n",
       "      <td>3.859942e+09</td>\n",
       "      <td>7.532123e+07</td>\n",
       "      <td>NaN</td>\n",
       "      <td>2.541665e+09</td>\n",
       "      <td>1.008183e+09</td>\n",
       "      <td>NIIF PYMES-GRUPO 2</td>\n",
       "    </tr>\n",
       "  </tbody>\n",
       "</table>\n",
       "</div>"
      ],
      "text/plain": [
       "     No.        NIT                        RAZON SOCIAL       SUPERVISOR  \\\n",
       "40    41  890900943         Colombiana de comercio S.A.  SUPERSOCIEDADES   \n",
       "121  122  830037248                 CODENSA S.A. E.S.P.   SUPERSERVICIOS   \n",
       "361  362  830078515  COLUMBUS NETWORKS DE COLOMBIA LTDA  SUPERSOCIEDADES   \n",
       "362  363  900411999    COFCO INTERNATIONAL COLOMBIA SAS  SUPERSOCIEDADES   \n",
       "395  396  800191700                    Cueros Velez SAS  SUPERSOCIEDADES   \n",
       "\n",
       "                    REGIÓN DEPARTAMENTO DOMICILIO CIUDAD DOMICILIO  \\\n",
       "40   Bogotá - Cundinamarca            BOGOTA D.C.      BOGOTA D.C.   \n",
       "121  Bogotá - Cundinamarca            BOGOTA D.C.      BOGOTA D.C.   \n",
       "361  Bogotá - Cundinamarca            BOGOTA D.C.      BOGOTA D.C.   \n",
       "362  Bogotá - Cundinamarca            BOGOTA D.C.      BOGOTA D.C.   \n",
       "395              Antioquia              ANTIOQUIA         MEDELLIN   \n",
       "\n",
       "                                                  CIIU  MACROSECTOR  \\\n",
       "40   G4719 - Comercio al por menor en establecimien...     COMERCIO   \n",
       "121      D3514 - Comercializacion de energia electrica    SERVICIOS   \n",
       "361  J6110 - Actividades de telecomunicaciones alám...    SERVICIOS   \n",
       "362  G4620 - Comercio al por mayor de materias prim...     COMERCIO   \n",
       "395  C1521 - Fabricación de calzado de cuero y piel...  MANUFACTURA   \n",
       "\n",
       "     INGRESOS OPERACIONALES\\r\\n2018*  GANANCIA (PERDIDA) 2018  \\\n",
       "40                      5.773518e+10             1.908419e+09   \n",
       "121                     5.059809e+10             6.086408e+09   \n",
       "361                     2.207468e+09            -6.070797e+07   \n",
       "362                     2.226702e+09             2.446349e+07   \n",
       "395                     4.468194e+09             9.789428e+07   \n",
       "\n",
       "     TOTAL ACTIVOS 2018  TOTAL PASIVOS 2018  TOTAL PATRIMONIO 2018  \\\n",
       "40         3.166454e+10        1.456830e+10           1.709624e+10   \n",
       "121        6.824665e+10        4.056828e+10                    NaN   \n",
       "361                 NaN        3.631087e+09           2.988918e+09   \n",
       "362        1.237909e+09        1.081948e+09           1.559602e+08   \n",
       "395        3.840059e+09        2.749046e+09           1.091013e+09   \n",
       "\n",
       "     INGRESOS OPERACIONALES\\r\\n2017*  GANANCIA (PERDIDA) 2017  \\\n",
       "40                               NaN             1.438890e+09   \n",
       "121                     4.541572e+10             6.234860e+09   \n",
       "361                     2.122095e+09             4.726838e+08   \n",
       "362                              NaN            -9.183090e+07   \n",
       "395                     3.859942e+09             7.532123e+07   \n",
       "\n",
       "     TOTAL ACTIVOS 2017  TOTAL PASIVOS 2017  TOTAL PATRIMONIO 2017  \\\n",
       "40         2.950819e+10        1.302890e+10           1.647929e+10   \n",
       "121        6.184186e+10        3.535367e+10           2.648819e+10   \n",
       "361        6.191184e+09        2.986656e+09           3.204528e+09   \n",
       "362        8.957149e+08        7.778971e+08           1.178178e+08   \n",
       "395                 NaN        2.541665e+09           1.008183e+09   \n",
       "\n",
       "           GRUPO EN NIIF  \n",
       "40   NIIF PLENAS-GRUPO 1  \n",
       "121  NIIF PLENAS-GRUPO 1  \n",
       "361  NIIF PLENAS-GRUPO 1  \n",
       "362  NIIF PLENAS-GRUPO 1  \n",
       "395   NIIF PYMES-GRUPO 2  "
      ]
     },
     "execution_count": 646,
     "metadata": {},
     "output_type": "execute_result"
    }
   ],
   "source": [
    "print(nan_rows.shape)\n",
    "nan_rows.head()"
   ]
  },
  {
   "cell_type": "code",
   "execution_count": 647,
   "metadata": {},
   "outputs": [],
   "source": [
    "# If PATRIMONIO is null que calculate it with PATRIMONIO = ACTIVOS - PASIVOS\n",
    "data.loc[data['TOTAL PATRIMONIO 2018'].isnull(), 'TOTAL PATRIMONIO 2018'] = data['TOTAL ACTIVOS 2018'] - data['TOTAL PASIVOS 2018']\n",
    "\n",
    "# If ACTIVOS is null que calculate it with ACTIVOS = PASIVOS + PATRIMONIO\n",
    "data.loc[data['TOTAL ACTIVOS 2018'].isnull(), 'TOTAL ACTIVOS 2018'] = data['TOTAL PASIVOS 2018'] + data['TOTAL PATRIMONIO 2018']\n",
    "\n",
    "# If PASIVOS is null que calculate it with PASIVOS = ACTIVOS - PATRIMONIO\n",
    "data.loc[data['TOTAL PASIVOS 2018'].isnull(), 'TOTAL PASIVOS 2018'] = data['TOTAL ACTIVOS 2018'] - data['TOTAL PATRIMONIO 2018']\n"
   ]
  },
  {
   "cell_type": "code",
   "execution_count": 648,
   "metadata": {},
   "outputs": [],
   "source": [
    "# If PATRIMONIO is null que calculate it with PATRIMONIO = ACTIVOS - PASIVOS\n",
    "data.loc[data['TOTAL PATRIMONIO 2017'].isnull(), 'TOTAL PATRIMONIO 2017'] = data['TOTAL ACTIVOS 2017'] - data['TOTAL PASIVOS 2017']\n",
    "\n",
    "# If ACTIVOS is null que calculate it with ACTIVOS = PASIVOS + PATRIMONIO\n",
    "data.loc[data['TOTAL ACTIVOS 2017'].isnull(), 'TOTAL ACTIVOS 2017'] = data['TOTAL PASIVOS 2017'] + data['TOTAL PATRIMONIO 2017']\n",
    "\n",
    "# If PASIVOS is null que calculate it with PASIVOS = ACTIVOS - PATRIMONIO\n",
    "data.loc[data['TOTAL PASIVOS 2017'].isnull(), 'TOTAL PASIVOS 2017'] = data['TOTAL ACTIVOS 2017'] - data['TOTAL PATRIMONIO 2017']"
   ]
  },
  {
   "cell_type": "code",
   "execution_count": 649,
   "metadata": {},
   "outputs": [],
   "source": [
    "nan_rows = data[data.isnull().T.any().T]"
   ]
  },
  {
   "cell_type": "code",
   "execution_count": 650,
   "metadata": {},
   "outputs": [
    {
     "name": "stdout",
     "output_type": "stream",
     "text": [
      "(8, 20)\n"
     ]
    },
    {
     "data": {
      "text/html": [
       "<div>\n",
       "<style scoped>\n",
       "    .dataframe tbody tr th:only-of-type {\n",
       "        vertical-align: middle;\n",
       "    }\n",
       "\n",
       "    .dataframe tbody tr th {\n",
       "        vertical-align: top;\n",
       "    }\n",
       "\n",
       "    .dataframe thead th {\n",
       "        text-align: right;\n",
       "    }\n",
       "</style>\n",
       "<table border=\"1\" class=\"dataframe\">\n",
       "  <thead>\n",
       "    <tr style=\"text-align: right;\">\n",
       "      <th></th>\n",
       "      <th>No.</th>\n",
       "      <th>NIT</th>\n",
       "      <th>RAZON SOCIAL</th>\n",
       "      <th>SUPERVISOR</th>\n",
       "      <th>REGIÓN</th>\n",
       "      <th>DEPARTAMENTO DOMICILIO</th>\n",
       "      <th>CIUDAD DOMICILIO</th>\n",
       "      <th>CIIU</th>\n",
       "      <th>MACROSECTOR</th>\n",
       "      <th>INGRESOS OPERACIONALES\\r\\n2018*</th>\n",
       "      <th>GANANCIA (PERDIDA) 2018</th>\n",
       "      <th>TOTAL ACTIVOS 2018</th>\n",
       "      <th>TOTAL PASIVOS 2018</th>\n",
       "      <th>TOTAL PATRIMONIO 2018</th>\n",
       "      <th>INGRESOS OPERACIONALES\\r\\n2017*</th>\n",
       "      <th>GANANCIA (PERDIDA) 2017</th>\n",
       "      <th>TOTAL ACTIVOS 2017</th>\n",
       "      <th>TOTAL PASIVOS 2017</th>\n",
       "      <th>TOTAL PATRIMONIO 2017</th>\n",
       "      <th>GRUPO EN NIIF</th>\n",
       "    </tr>\n",
       "  </thead>\n",
       "  <tbody>\n",
       "    <tr>\n",
       "      <th>40</th>\n",
       "      <td>41</td>\n",
       "      <td>890900943</td>\n",
       "      <td>Colombiana de comercio S.A.</td>\n",
       "      <td>SUPERSOCIEDADES</td>\n",
       "      <td>Bogotá - Cundinamarca</td>\n",
       "      <td>BOGOTA D.C.</td>\n",
       "      <td>BOGOTA D.C.</td>\n",
       "      <td>G4719 - Comercio al por menor en establecimien...</td>\n",
       "      <td>COMERCIO</td>\n",
       "      <td>5.773518e+10</td>\n",
       "      <td>1.908419e+09</td>\n",
       "      <td>3.166454e+10</td>\n",
       "      <td>1.456830e+10</td>\n",
       "      <td>1.709624e+10</td>\n",
       "      <td>NaN</td>\n",
       "      <td>1.438890e+09</td>\n",
       "      <td>2.950819e+10</td>\n",
       "      <td>1.302890e+10</td>\n",
       "      <td>1.647929e+10</td>\n",
       "      <td>NIIF PLENAS-GRUPO 1</td>\n",
       "    </tr>\n",
       "    <tr>\n",
       "      <th>362</th>\n",
       "      <td>363</td>\n",
       "      <td>900411999</td>\n",
       "      <td>COFCO INTERNATIONAL COLOMBIA SAS</td>\n",
       "      <td>SUPERSOCIEDADES</td>\n",
       "      <td>Bogotá - Cundinamarca</td>\n",
       "      <td>BOGOTA D.C.</td>\n",
       "      <td>BOGOTA D.C.</td>\n",
       "      <td>G4620 - Comercio al por mayor de materias prim...</td>\n",
       "      <td>COMERCIO</td>\n",
       "      <td>2.226702e+09</td>\n",
       "      <td>2.446349e+07</td>\n",
       "      <td>1.237909e+09</td>\n",
       "      <td>1.081948e+09</td>\n",
       "      <td>1.559602e+08</td>\n",
       "      <td>NaN</td>\n",
       "      <td>-9.183090e+07</td>\n",
       "      <td>8.957149e+08</td>\n",
       "      <td>7.778971e+08</td>\n",
       "      <td>1.178178e+08</td>\n",
       "      <td>NIIF PLENAS-GRUPO 1</td>\n",
       "    </tr>\n",
       "    <tr>\n",
       "      <th>401</th>\n",
       "      <td>402</td>\n",
       "      <td>860000135</td>\n",
       "      <td>AZUL K S.A</td>\n",
       "      <td>SUPERSOCIEDADES</td>\n",
       "      <td>Bogotá - Cundinamarca</td>\n",
       "      <td>BOGOTA D.C.</td>\n",
       "      <td>BOGOTA D.C.</td>\n",
       "      <td>C2023 - Fabricación de jabones y detergentes, ...</td>\n",
       "      <td>MANUFACTURA</td>\n",
       "      <td>2.545120e+09</td>\n",
       "      <td>3.966148e+07</td>\n",
       "      <td>1.452862e+09</td>\n",
       "      <td>1.118287e+09</td>\n",
       "      <td>3.345750e+08</td>\n",
       "      <td>2.537585e+09</td>\n",
       "      <td>NaN</td>\n",
       "      <td>1.434417e+09</td>\n",
       "      <td>1.126631e+09</td>\n",
       "      <td>3.077866e+08</td>\n",
       "      <td>NIIF PLENAS-GRUPO 1</td>\n",
       "    </tr>\n",
       "    <tr>\n",
       "      <th>403</th>\n",
       "      <td>404</td>\n",
       "      <td>800059470</td>\n",
       "      <td>POLIPROPILENO DEL CARIBE S.A.</td>\n",
       "      <td>SUPERSOCIEDADES</td>\n",
       "      <td>Costa Atlántica</td>\n",
       "      <td>BOLIVAR</td>\n",
       "      <td>CARTAGENA</td>\n",
       "      <td>C2013 - Fabricación de plásticos en formas pri...</td>\n",
       "      <td>MANUFACTURA</td>\n",
       "      <td>2.329130e+10</td>\n",
       "      <td>1.583235e+09</td>\n",
       "      <td>2.023510e+10</td>\n",
       "      <td>4.066584e+09</td>\n",
       "      <td>1.616851e+10</td>\n",
       "      <td>NaN</td>\n",
       "      <td>1.605362e+09</td>\n",
       "      <td>1.926012e+10</td>\n",
       "      <td>4.058661e+09</td>\n",
       "      <td>1.520146e+10</td>\n",
       "      <td>NIIF PLENAS-GRUPO 1</td>\n",
       "    </tr>\n",
       "    <tr>\n",
       "      <th>640</th>\n",
       "      <td>641</td>\n",
       "      <td>800232356</td>\n",
       "      <td>FAJOBE SAS</td>\n",
       "      <td>SUPERSOCIEDADES</td>\n",
       "      <td>Bogotá - Cundinamarca</td>\n",
       "      <td>CUNDINAMARCA</td>\n",
       "      <td>COTA</td>\n",
       "      <td>G4663 - Comercio al por mayor de materiales de...</td>\n",
       "      <td>COMERCIO</td>\n",
       "      <td>1.416992e+09</td>\n",
       "      <td>1.445107e+07</td>\n",
       "      <td>1.707295e+09</td>\n",
       "      <td>1.312081e+09</td>\n",
       "      <td>3.952144e+08</td>\n",
       "      <td>NaN</td>\n",
       "      <td>2.030932e+07</td>\n",
       "      <td>1.731377e+09</td>\n",
       "      <td>1.352252e+09</td>\n",
       "      <td>3.791248e+08</td>\n",
       "      <td>NIIF PLENAS-GRUPO 1</td>\n",
       "    </tr>\n",
       "  </tbody>\n",
       "</table>\n",
       "</div>"
      ],
      "text/plain": [
       "     No.        NIT                      RAZON SOCIAL       SUPERVISOR  \\\n",
       "40    41  890900943       Colombiana de comercio S.A.  SUPERSOCIEDADES   \n",
       "362  363  900411999  COFCO INTERNATIONAL COLOMBIA SAS  SUPERSOCIEDADES   \n",
       "401  402  860000135                        AZUL K S.A  SUPERSOCIEDADES   \n",
       "403  404  800059470     POLIPROPILENO DEL CARIBE S.A.  SUPERSOCIEDADES   \n",
       "640  641  800232356                        FAJOBE SAS  SUPERSOCIEDADES   \n",
       "\n",
       "                    REGIÓN DEPARTAMENTO DOMICILIO CIUDAD DOMICILIO  \\\n",
       "40   Bogotá - Cundinamarca            BOGOTA D.C.      BOGOTA D.C.   \n",
       "362  Bogotá - Cundinamarca            BOGOTA D.C.      BOGOTA D.C.   \n",
       "401  Bogotá - Cundinamarca            BOGOTA D.C.      BOGOTA D.C.   \n",
       "403        Costa Atlántica                BOLIVAR        CARTAGENA   \n",
       "640  Bogotá - Cundinamarca           CUNDINAMARCA             COTA   \n",
       "\n",
       "                                                  CIIU  MACROSECTOR  \\\n",
       "40   G4719 - Comercio al por menor en establecimien...     COMERCIO   \n",
       "362  G4620 - Comercio al por mayor de materias prim...     COMERCIO   \n",
       "401  C2023 - Fabricación de jabones y detergentes, ...  MANUFACTURA   \n",
       "403  C2013 - Fabricación de plásticos en formas pri...  MANUFACTURA   \n",
       "640  G4663 - Comercio al por mayor de materiales de...     COMERCIO   \n",
       "\n",
       "     INGRESOS OPERACIONALES\\r\\n2018*  GANANCIA (PERDIDA) 2018  \\\n",
       "40                      5.773518e+10             1.908419e+09   \n",
       "362                     2.226702e+09             2.446349e+07   \n",
       "401                     2.545120e+09             3.966148e+07   \n",
       "403                     2.329130e+10             1.583235e+09   \n",
       "640                     1.416992e+09             1.445107e+07   \n",
       "\n",
       "     TOTAL ACTIVOS 2018  TOTAL PASIVOS 2018  TOTAL PATRIMONIO 2018  \\\n",
       "40         3.166454e+10        1.456830e+10           1.709624e+10   \n",
       "362        1.237909e+09        1.081948e+09           1.559602e+08   \n",
       "401        1.452862e+09        1.118287e+09           3.345750e+08   \n",
       "403        2.023510e+10        4.066584e+09           1.616851e+10   \n",
       "640        1.707295e+09        1.312081e+09           3.952144e+08   \n",
       "\n",
       "     INGRESOS OPERACIONALES\\r\\n2017*  GANANCIA (PERDIDA) 2017  \\\n",
       "40                               NaN             1.438890e+09   \n",
       "362                              NaN            -9.183090e+07   \n",
       "401                     2.537585e+09                      NaN   \n",
       "403                              NaN             1.605362e+09   \n",
       "640                              NaN             2.030932e+07   \n",
       "\n",
       "     TOTAL ACTIVOS 2017  TOTAL PASIVOS 2017  TOTAL PATRIMONIO 2017  \\\n",
       "40         2.950819e+10        1.302890e+10           1.647929e+10   \n",
       "362        8.957149e+08        7.778971e+08           1.178178e+08   \n",
       "401        1.434417e+09        1.126631e+09           3.077866e+08   \n",
       "403        1.926012e+10        4.058661e+09           1.520146e+10   \n",
       "640        1.731377e+09        1.352252e+09           3.791248e+08   \n",
       "\n",
       "           GRUPO EN NIIF  \n",
       "40   NIIF PLENAS-GRUPO 1  \n",
       "362  NIIF PLENAS-GRUPO 1  \n",
       "401  NIIF PLENAS-GRUPO 1  \n",
       "403  NIIF PLENAS-GRUPO 1  \n",
       "640  NIIF PLENAS-GRUPO 1  "
      ]
     },
     "execution_count": 650,
     "metadata": {},
     "output_type": "execute_result"
    }
   ],
   "source": [
    "print(nan_rows.shape)\n",
    "nan_rows.head()"
   ]
  },
  {
   "cell_type": "code",
   "execution_count": 651,
   "metadata": {},
   "outputs": [
    {
     "data": {
      "text/plain": [
       "No.                                0.000000\n",
       "NIT                                0.000000\n",
       "RAZON SOCIAL                       0.000000\n",
       "SUPERVISOR                         0.000000\n",
       "REGIÓN                             0.000000\n",
       "DEPARTAMENTO DOMICILIO             0.000000\n",
       "CIUDAD DOMICILIO                   0.000000\n",
       "CIIU                               0.000000\n",
       "MACROSECTOR                        0.000000\n",
       "INGRESOS OPERACIONALES\\r\\n2018*    0.000937\n",
       "GANANCIA (PERDIDA) 2018            0.000937\n",
       "TOTAL ACTIVOS 2018                 0.000000\n",
       "TOTAL PASIVOS 2018                 0.000000\n",
       "TOTAL PATRIMONIO 2018              0.000000\n",
       "INGRESOS OPERACIONALES\\r\\n2017*    0.004686\n",
       "GANANCIA (PERDIDA) 2017            0.000937\n",
       "TOTAL ACTIVOS 2017                 0.000000\n",
       "TOTAL PASIVOS 2017                 0.000000\n",
       "TOTAL PATRIMONIO 2017              0.000000\n",
       "GRUPO EN NIIF                      0.000000\n",
       "dtype: float64"
      ]
     },
     "execution_count": 651,
     "metadata": {},
     "output_type": "execute_result"
    }
   ],
   "source": [
    "data.isnull().mean()"
   ]
  },
  {
   "cell_type": "code",
   "execution_count": null,
   "metadata": {},
   "outputs": [],
   "source": []
  }
 ],
 "metadata": {
  "kernelspec": {
   "display_name": "Python 3.8.5 64-bit",
   "language": "python",
   "name": "python3"
  },
  "language_info": {
   "codemirror_mode": {
    "name": "ipython",
    "version": 3
   },
   "file_extension": ".py",
   "mimetype": "text/x-python",
   "name": "python",
   "nbconvert_exporter": "python",
   "pygments_lexer": "ipython3",
   "version": "3.8.5"
  },
  "orig_nbformat": 4,
  "vscode": {
   "interpreter": {
    "hash": "29bac995d0c570c5b3d713e56b73d69daaa4566681c7e7cdcd767b69a1be78b9"
   }
  }
 },
 "nbformat": 4,
 "nbformat_minor": 2
}
