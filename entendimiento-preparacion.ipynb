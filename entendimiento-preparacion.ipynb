{
 "cells": [
  {
   "cell_type": "markdown",
   "metadata": {},
   "source": [
    "<h1>Analisis de los datos para limpieza</h1>"
   ]
  },
  {
   "cell_type": "code",
   "execution_count": 1,
   "metadata": {},
   "outputs": [],
   "source": [
    "import pandas as pd\n",
    "import numpy as np\n",
    "import math"
   ]
  },
  {
   "cell_type": "code",
   "execution_count": 2,
   "metadata": {},
   "outputs": [],
   "source": [
    "data = pd.read_csv('data\\Empresas_mas_grandes_del_pais_2018.csv', delimiter=';')"
   ]
  },
  {
   "cell_type": "code",
   "execution_count": 3,
   "metadata": {},
   "outputs": [
    {
     "data": {
      "text/plain": [
       "(1068, 20)"
      ]
     },
     "execution_count": 3,
     "metadata": {},
     "output_type": "execute_result"
    }
   ],
   "source": [
    "data.shape"
   ]
  },
  {
   "cell_type": "code",
   "execution_count": 4,
   "metadata": {},
   "outputs": [
    {
     "data": {
      "text/html": [
       "<div>\n",
       "<style scoped>\n",
       "    .dataframe tbody tr th:only-of-type {\n",
       "        vertical-align: middle;\n",
       "    }\n",
       "\n",
       "    .dataframe tbody tr th {\n",
       "        vertical-align: top;\n",
       "    }\n",
       "\n",
       "    .dataframe thead th {\n",
       "        text-align: right;\n",
       "    }\n",
       "</style>\n",
       "<table border=\"1\" class=\"dataframe\">\n",
       "  <thead>\n",
       "    <tr style=\"text-align: right;\">\n",
       "      <th></th>\n",
       "      <th>No.</th>\n",
       "      <th>NIT</th>\n",
       "      <th>GANANCIA (PERDIDA) 2017</th>\n",
       "    </tr>\n",
       "  </thead>\n",
       "  <tbody>\n",
       "    <tr>\n",
       "      <th>count</th>\n",
       "      <td>1068.000000</td>\n",
       "      <td>1.068000e+03</td>\n",
       "      <td>1.067000e+03</td>\n",
       "    </tr>\n",
       "    <tr>\n",
       "      <th>mean</th>\n",
       "      <td>534.500000</td>\n",
       "      <td>8.590699e+08</td>\n",
       "      <td>1.147441e+08</td>\n",
       "    </tr>\n",
       "    <tr>\n",
       "      <th>std</th>\n",
       "      <td>308.449348</td>\n",
       "      <td>3.782354e+07</td>\n",
       "      <td>5.226753e+09</td>\n",
       "    </tr>\n",
       "    <tr>\n",
       "      <th>min</th>\n",
       "      <td>1.000000</td>\n",
       "      <td>8.000003e+08</td>\n",
       "      <td>-7.977997e+10</td>\n",
       "    </tr>\n",
       "    <tr>\n",
       "      <th>25%</th>\n",
       "      <td>267.750000</td>\n",
       "      <td>8.300113e+08</td>\n",
       "      <td>2.899945e+06</td>\n",
       "    </tr>\n",
       "    <tr>\n",
       "      <th>50%</th>\n",
       "      <td>534.500000</td>\n",
       "      <td>8.600590e+08</td>\n",
       "      <td>5.023917e+07</td>\n",
       "    </tr>\n",
       "    <tr>\n",
       "      <th>75%</th>\n",
       "      <td>801.250000</td>\n",
       "      <td>8.910851e+08</td>\n",
       "      <td>1.915863e+08</td>\n",
       "    </tr>\n",
       "    <tr>\n",
       "      <th>max</th>\n",
       "      <td>1068.000000</td>\n",
       "      <td>9.010975e+08</td>\n",
       "      <td>6.620412e+10</td>\n",
       "    </tr>\n",
       "  </tbody>\n",
       "</table>\n",
       "</div>"
      ],
      "text/plain": [
       "               No.           NIT  GANANCIA (PERDIDA) 2017\n",
       "count  1068.000000  1.068000e+03             1.067000e+03\n",
       "mean    534.500000  8.590699e+08             1.147441e+08\n",
       "std     308.449348  3.782354e+07             5.226753e+09\n",
       "min       1.000000  8.000003e+08            -7.977997e+10\n",
       "25%     267.750000  8.300113e+08             2.899945e+06\n",
       "50%     534.500000  8.600590e+08             5.023917e+07\n",
       "75%     801.250000  8.910851e+08             1.915863e+08\n",
       "max    1068.000000  9.010975e+08             6.620412e+10"
      ]
     },
     "execution_count": 4,
     "metadata": {},
     "output_type": "execute_result"
    }
   ],
   "source": [
    "data.describe()"
   ]
  },
  {
   "cell_type": "code",
   "execution_count": 5,
   "metadata": {},
   "outputs": [
    {
     "data": {
      "text/html": [
       "<div>\n",
       "<style scoped>\n",
       "    .dataframe tbody tr th:only-of-type {\n",
       "        vertical-align: middle;\n",
       "    }\n",
       "\n",
       "    .dataframe tbody tr th {\n",
       "        vertical-align: top;\n",
       "    }\n",
       "\n",
       "    .dataframe thead th {\n",
       "        text-align: right;\n",
       "    }\n",
       "</style>\n",
       "<table border=\"1\" class=\"dataframe\">\n",
       "  <thead>\n",
       "    <tr style=\"text-align: right;\">\n",
       "      <th></th>\n",
       "      <th>No.</th>\n",
       "      <th>NIT</th>\n",
       "      <th>RAZON SOCIAL</th>\n",
       "      <th>SUPERVISOR</th>\n",
       "      <th>REGIÓN</th>\n",
       "      <th>DEPARTAMENTO DOMICILIO</th>\n",
       "      <th>CIUDAD DOMICILIO</th>\n",
       "      <th>CIIU</th>\n",
       "      <th>MACROSECTOR</th>\n",
       "      <th>INGRESOS OPERACIONALES\\n2018*</th>\n",
       "      <th>GANANCIA (PERDIDA) 2018</th>\n",
       "      <th>TOTAL ACTIVOS 2018</th>\n",
       "      <th>TOTAL PASIVOS 2018</th>\n",
       "      <th>TOTAL PATRIMONIO 2018</th>\n",
       "      <th>INGRESOS OPERACIONALES\\n2017*</th>\n",
       "      <th>GANANCIA (PERDIDA) 2017</th>\n",
       "      <th>TOTAL ACTIVOS 2017</th>\n",
       "      <th>TOTAL PASIVOS 2017</th>\n",
       "      <th>TOTAL PATRIMONIO 2017</th>\n",
       "      <th>GRUPO EN NIIF</th>\n",
       "    </tr>\n",
       "  </thead>\n",
       "  <tbody>\n",
       "    <tr>\n",
       "      <th>0</th>\n",
       "      <td>1</td>\n",
       "      <td>860003563</td>\n",
       "      <td>ABB LTDA</td>\n",
       "      <td>SUPERSOCIEDADES</td>\n",
       "      <td>Bogotá - Cundinamarca</td>\n",
       "      <td>BOGOTA D.C.</td>\n",
       "      <td>BOGOTA-D.C.-BOGOTA D.C.</td>\n",
       "      <td>C2711 - Fabricación de motores, generadores y ...</td>\n",
       "      <td>MANUFACTURA</td>\n",
       "      <td>3571775290</td>\n",
       "      <td>-58725480</td>\n",
       "      <td>2956848280</td>\n",
       "      <td>2476739360</td>\n",
       "      <td>480108920</td>\n",
       "      <td>4005048860</td>\n",
       "      <td>-8.752900e+07</td>\n",
       "      <td>2875459550</td>\n",
       "      <td>$ 2341172480</td>\n",
       "      <td>534287070</td>\n",
       "      <td>NIIF PLENAS-GRUPO 1</td>\n",
       "    </tr>\n",
       "    <tr>\n",
       "      <th>1</th>\n",
       "      <td>2</td>\n",
       "      <td>900138670</td>\n",
       "      <td>C.I BIOCOSTA S.A</td>\n",
       "      <td>SUPERSOCIEDADES</td>\n",
       "      <td>Costa Atlántica</td>\n",
       "      <td>MAGDALENA</td>\n",
       "      <td>SANTA-MARTA-MAGDALENA</td>\n",
       "      <td>G4610 - Comercio al por mayor a cambio de una ...</td>\n",
       "      <td>COMERCIO</td>\n",
       "      <td>6018901940</td>\n",
       "      <td>35049440</td>\n",
       "      <td>1207011140</td>\n",
       "      <td>1031423810</td>\n",
       "      <td>175587330</td>\n",
       "      <td>4994552450</td>\n",
       "      <td>1.083777e+07</td>\n",
       "      <td>1020831970</td>\n",
       "      <td>$ 894986480</td>\n",
       "      <td>125845490</td>\n",
       "      <td>NIIF PLENAS-GRUPO 1</td>\n",
       "    </tr>\n",
       "    <tr>\n",
       "      <th>2</th>\n",
       "      <td>3</td>\n",
       "      <td>890302629</td>\n",
       "      <td>CONSTRUCTORA MELENDEZ S.A.</td>\n",
       "      <td>SUPERSOCIEDADES</td>\n",
       "      <td>Costa Pacífica</td>\n",
       "      <td>VALLE</td>\n",
       "      <td>CALI-VALLE</td>\n",
       "      <td>F4111 - Construcción de edificios residenciales</td>\n",
       "      <td>CONSTRUCCIÓN</td>\n",
       "      <td>1739284020</td>\n",
       "      <td>17351050</td>\n",
       "      <td>3030766680</td>\n",
       "      <td>2163543620</td>\n",
       "      <td>867223060</td>\n",
       "      <td>1039942430</td>\n",
       "      <td>-3.877247e+07</td>\n",
       "      <td>2615650250</td>\n",
       "      <td>$ 1748991200</td>\n",
       "      <td>866659050</td>\n",
       "      <td>NIIF PLENAS-GRUPO 1</td>\n",
       "    </tr>\n",
       "    <tr>\n",
       "      <th>3</th>\n",
       "      <td>4</td>\n",
       "      <td>811004055</td>\n",
       "      <td>EMDISALUD</td>\n",
       "      <td>SUPERSALUD</td>\n",
       "      <td>Costa Atlántica</td>\n",
       "      <td>CORDOBA</td>\n",
       "      <td>MONTERIA</td>\n",
       "      <td>O8430- Actividades de planes de seguridad soci...</td>\n",
       "      <td>SERVICIOS</td>\n",
       "      <td>40338871012</td>\n",
       "      <td>-30165816569</td>\n",
       "      <td>9908133414</td>\n",
       "      <td>49508606428</td>\n",
       "      <td>-39600473014</td>\n",
       "      <td>36965284636</td>\n",
       "      <td>-1.086227e+10</td>\n",
       "      <td>9807866502</td>\n",
       "      <td>$ 19246633716</td>\n",
       "      <td>-9438767214</td>\n",
       "      <td>NIIF PYMES-GRUPO 2</td>\n",
       "    </tr>\n",
       "    <tr>\n",
       "      <th>4</th>\n",
       "      <td>5</td>\n",
       "      <td>890503314</td>\n",
       "      <td>CERAMICA ITALIA SA</td>\n",
       "      <td>SUPERSOCIEDADES</td>\n",
       "      <td>Centro - Oriente</td>\n",
       "      <td>NORTE DE SANTANDER</td>\n",
       "      <td>CUCUTA-NORTE DE SANTANDER</td>\n",
       "      <td>C2392 - Fabricación de materiales de arcilla p...</td>\n",
       "      <td>MANUFACTURA</td>\n",
       "      <td>1419514010</td>\n",
       "      <td>4582130</td>\n",
       "      <td>1498588040</td>\n",
       "      <td>497131270</td>\n",
       "      <td>1001456770</td>\n",
       "      <td>1360935380</td>\n",
       "      <td>3.250460e+07</td>\n",
       "      <td>1509245600</td>\n",
       "      <td>$ 490200920</td>\n",
       "      <td>1019044680</td>\n",
       "      <td>NIIF PYMES-GRUPO 2</td>\n",
       "    </tr>\n",
       "  </tbody>\n",
       "</table>\n",
       "</div>"
      ],
      "text/plain": [
       "   No.        NIT                RAZON SOCIAL       SUPERVISOR  \\\n",
       "0    1  860003563                    ABB LTDA  SUPERSOCIEDADES   \n",
       "1    2  900138670            C.I BIOCOSTA S.A  SUPERSOCIEDADES   \n",
       "2    3  890302629  CONSTRUCTORA MELENDEZ S.A.  SUPERSOCIEDADES   \n",
       "3    4  811004055                   EMDISALUD       SUPERSALUD   \n",
       "4    5  890503314          CERAMICA ITALIA SA  SUPERSOCIEDADES   \n",
       "\n",
       "                  REGIÓN DEPARTAMENTO DOMICILIO           CIUDAD DOMICILIO  \\\n",
       "0  Bogotá - Cundinamarca            BOGOTA D.C.    BOGOTA-D.C.-BOGOTA D.C.   \n",
       "1        Costa Atlántica              MAGDALENA      SANTA-MARTA-MAGDALENA   \n",
       "2         Costa Pacífica                  VALLE                 CALI-VALLE   \n",
       "3        Costa Atlántica                CORDOBA                   MONTERIA   \n",
       "4       Centro - Oriente     NORTE DE SANTANDER  CUCUTA-NORTE DE SANTANDER   \n",
       "\n",
       "                                                CIIU   MACROSECTOR  \\\n",
       "0  C2711 - Fabricación de motores, generadores y ...   MANUFACTURA   \n",
       "1  G4610 - Comercio al por mayor a cambio de una ...      COMERCIO   \n",
       "2    F4111 - Construcción de edificios residenciales  CONSTRUCCIÓN   \n",
       "3  O8430- Actividades de planes de seguridad soci...     SERVICIOS   \n",
       "4  C2392 - Fabricación de materiales de arcilla p...   MANUFACTURA   \n",
       "\n",
       "  INGRESOS OPERACIONALES\\n2018* GANANCIA (PERDIDA) 2018 TOTAL ACTIVOS 2018  \\\n",
       "0                    3571775290               -58725480         2956848280   \n",
       "1                    6018901940                35049440         1207011140   \n",
       "2                    1739284020                17351050         3030766680   \n",
       "3                   40338871012            -30165816569         9908133414   \n",
       "4                    1419514010                 4582130         1498588040   \n",
       "\n",
       "  TOTAL PASIVOS 2018 TOTAL PATRIMONIO 2018 INGRESOS OPERACIONALES\\n2017*  \\\n",
       "0         2476739360             480108920                    4005048860   \n",
       "1         1031423810             175587330                    4994552450   \n",
       "2         2163543620             867223060                    1039942430   \n",
       "3        49508606428          -39600473014                   36965284636   \n",
       "4          497131270            1001456770                    1360935380   \n",
       "\n",
       "   GANANCIA (PERDIDA) 2017 TOTAL ACTIVOS 2017 TOTAL PASIVOS 2017  \\\n",
       "0            -8.752900e+07         2875459550       $ 2341172480   \n",
       "1             1.083777e+07         1020831970        $ 894986480   \n",
       "2            -3.877247e+07         2615650250       $ 1748991200   \n",
       "3            -1.086227e+10         9807866502      $ 19246633716   \n",
       "4             3.250460e+07         1509245600        $ 490200920   \n",
       "\n",
       "  TOTAL PATRIMONIO 2017        GRUPO EN NIIF  \n",
       "0             534287070  NIIF PLENAS-GRUPO 1  \n",
       "1             125845490  NIIF PLENAS-GRUPO 1  \n",
       "2             866659050  NIIF PLENAS-GRUPO 1  \n",
       "3           -9438767214   NIIF PYMES-GRUPO 2  \n",
       "4            1019044680   NIIF PYMES-GRUPO 2  "
      ]
     },
     "execution_count": 5,
     "metadata": {},
     "output_type": "execute_result"
    }
   ],
   "source": [
    "data.head()"
   ]
  },
  {
   "cell_type": "code",
   "execution_count": 6,
   "metadata": {},
   "outputs": [
    {
     "data": {
      "text/plain": [
       "No.                                int64\n",
       "NIT                                int64\n",
       "RAZON SOCIAL                      object\n",
       "SUPERVISOR                        object\n",
       "REGIÓN                            object\n",
       "DEPARTAMENTO DOMICILIO            object\n",
       "CIUDAD DOMICILIO                  object\n",
       "CIIU                              object\n",
       "MACROSECTOR                       object\n",
       "INGRESOS OPERACIONALES\\n2018*     object\n",
       "GANANCIA (PERDIDA) 2018           object\n",
       "TOTAL ACTIVOS 2018                object\n",
       "TOTAL PASIVOS 2018                object\n",
       "TOTAL PATRIMONIO 2018             object\n",
       "INGRESOS OPERACIONALES\\n2017*     object\n",
       "GANANCIA (PERDIDA) 2017          float64\n",
       "TOTAL ACTIVOS 2017                object\n",
       "TOTAL PASIVOS 2017                object\n",
       "TOTAL PATRIMONIO 2017             object\n",
       "GRUPO EN NIIF                     object\n",
       "dtype: object"
      ]
     },
     "execution_count": 6,
     "metadata": {},
     "output_type": "execute_result"
    }
   ],
   "source": [
    "data.dtypes"
   ]
  },
  {
   "cell_type": "code",
   "execution_count": 41,
   "metadata": {},
   "outputs": [
    {
     "data": {
      "text/plain": [
       "No.                              0.000000\n",
       "NIT                              0.000000\n",
       "RAZON SOCIAL                     0.000000\n",
       "SUPERVISOR                       0.000000\n",
       "REGIÓN                           0.000000\n",
       "DEPARTAMENTO DOMICILIO           0.000000\n",
       "CIUDAD DOMICILIO                 0.000000\n",
       "CIIU                             0.000000\n",
       "MACROSECTOR                      0.002812\n",
       "INGRESOS OPERACIONALES\\n2018*    0.000937\n",
       "GANANCIA (PERDIDA) 2018          0.000937\n",
       "TOTAL ACTIVOS 2018               0.001874\n",
       "TOTAL PASIVOS 2018               0.001874\n",
       "TOTAL PATRIMONIO 2018            0.003749\n",
       "INGRESOS OPERACIONALES\\n2017*    0.004686\n",
       "GANANCIA (PERDIDA) 2017          0.000937\n",
       "TOTAL ACTIVOS 2017               0.001874\n",
       "TOTAL PASIVOS 2017               0.000000\n",
       "TOTAL PATRIMONIO 2017            0.000000\n",
       "GRUPO EN NIIF                    0.000000\n",
       "dtype: float64"
      ]
     },
     "execution_count": 41,
     "metadata": {},
     "output_type": "execute_result"
    }
   ],
   "source": [
    "data.isnull().mean()"
   ]
  },
  {
   "cell_type": "code",
   "execution_count": 8,
   "metadata": {},
   "outputs": [
    {
     "data": {
      "text/plain": [
       "0.0299625468164794"
      ]
     },
     "execution_count": 8,
     "metadata": {},
     "output_type": "execute_result"
    }
   ],
   "source": [
    "data.isnull().mean().sum()"
   ]
  },
  {
   "cell_type": "markdown",
   "metadata": {},
   "source": [
    "Como se puede ver el 2% de nuestras casillas están vacias, y la mayoria de los vacios pertenecen a datos que nos podrían ayudar con el analisis, se tomaran decisiones para reducir ese porcentaje de nulos."
   ]
  },
  {
   "cell_type": "code",
   "execution_count": 9,
   "metadata": {},
   "outputs": [
    {
     "data": {
      "text/plain": [
       "1068"
      ]
     },
     "execution_count": 9,
     "metadata": {},
     "output_type": "execute_result"
    }
   ],
   "source": [
    "data['NIT'].count()"
   ]
  },
  {
   "cell_type": "code",
   "execution_count": 10,
   "metadata": {},
   "outputs": [
    {
     "data": {
      "text/plain": [
       "1000"
      ]
     },
     "execution_count": 10,
     "metadata": {},
     "output_type": "execute_result"
    }
   ],
   "source": [
    "len(data['NIT'].unique().tolist())"
   ]
  },
  {
   "cell_type": "code",
   "execution_count": 11,
   "metadata": {},
   "outputs": [
    {
     "data": {
      "text/plain": [
       "1068"
      ]
     },
     "execution_count": 11,
     "metadata": {},
     "output_type": "execute_result"
    }
   ],
   "source": [
    "data['RAZON SOCIAL'].count()"
   ]
  },
  {
   "cell_type": "code",
   "execution_count": 12,
   "metadata": {},
   "outputs": [
    {
     "data": {
      "text/plain": [
       "1000"
      ]
     },
     "execution_count": 12,
     "metadata": {},
     "output_type": "execute_result"
    }
   ],
   "source": [
    "len(data['RAZON SOCIAL'].unique().tolist())"
   ]
  },
  {
   "cell_type": "markdown",
   "metadata": {},
   "source": [
    "Existen 68 empresas repetidas, con un analisis posterior unificaremos esas filas."
   ]
  },
  {
   "cell_type": "code",
   "execution_count": 13,
   "metadata": {},
   "outputs": [
    {
     "data": {
      "text/plain": [
       "array(['SUPERSOCIEDADES', 'SUPERSALUD', 'SUPERVIGILANCIA',\n",
       "       'SUPERFINANCIERA', 'SUPERSERVICIOS', 'SUPERSUCIEDADES'],\n",
       "      dtype=object)"
      ]
     },
     "execution_count": 13,
     "metadata": {},
     "output_type": "execute_result"
    }
   ],
   "source": [
    "data.SUPERVISOR.unique()"
   ]
  },
  {
   "cell_type": "code",
   "execution_count": 14,
   "metadata": {},
   "outputs": [
    {
     "data": {
      "text/plain": [
       "array(['Bogotá - Cundinamarca', 'Costa Atlántica', 'Costa Pacífica',\n",
       "       'Centro - Oriente', 'Antioquia', 'Costa Atlantica', 'Otros',\n",
       "       'Eje Cafetero', nan], dtype=object)"
      ]
     },
     "execution_count": 14,
     "metadata": {},
     "output_type": "execute_result"
    }
   ],
   "source": [
    "data.REGIÓN.unique()"
   ]
  },
  {
   "cell_type": "code",
   "execution_count": 15,
   "metadata": {},
   "outputs": [
    {
     "data": {
      "text/plain": [
       "array(['BOGOTA D.C.', 'MAGDALENA', 'VALLE', 'CORDOBA',\n",
       "       'NORTE DE SANTANDER', 'CUNDINAMARCA', 'ANTIOQUIA', 'ATLANTICO',\n",
       "       'GUAJIRA', 'CAUCA', 'SANTANDER', 'BOLIVAR', 'CASANARE', nan,\n",
       "       'RISARALDA', 'BOGOTÁ D.C.', 'CALDAS', 'META', 'BOYACA', 'HUILA',\n",
       "       'NARIÑO', 'CHOCO', 'SAN ANDRES Y PROVIDENCIA', 'TOLIMA', 'CESAR',\n",
       "       'SUCRE', 'QUINDIO'], dtype=object)"
      ]
     },
     "execution_count": 15,
     "metadata": {},
     "output_type": "execute_result"
    }
   ],
   "source": [
    "data['DEPARTAMENTO DOMICILIO'].unique()"
   ]
  },
  {
   "cell_type": "code",
   "execution_count": 16,
   "metadata": {},
   "outputs": [
    {
     "data": {
      "text/plain": [
       "array(['BOGOTA-D.C.-BOGOTA D.C.', 'SANTA-MARTA-MAGDALENA', 'CALI-VALLE',\n",
       "       'MONTERIA', 'CUCUTA-NORTE DE SANTANDER', 'COTA-CUNDINAMARCA',\n",
       "       'TOCANCIPA-CUNDINAMARCA', 'ENVIGADO-ANTIOQUIA',\n",
       "       'CHIA-CUNDINAMARCA', 'BARRANQUILLA-ATLANTICO',\n",
       "       'MEDELLIN-ANTIOQUIA', 'YUMBO-VALLE', 'PALMIRA-VALLE', 'RIOHACHA',\n",
       "       'CALDAS-ANTIOQUIA', 'GUACHENE-CAUCA', 'FLORIDABLANCA-SANTANDER',\n",
       "       'CARTAGENA-BOLIVAR', 'JAMUNDI-VALLE', 'LA-ESTRELLA-ANTIOQUIA',\n",
       "       'YOPAL', 'BELLO-ANTIOQUIA', 'MEDELLIN', 'CALOTO-CAUCA',\n",
       "       'VILLA-RICA-CAUCA', 'SANTANDER-DE-QUILICHAO-CAUCA',\n",
       "       'ITAGUI-ANTIOQUIA', 'SABANETA-ANTIOQUIA', 'MONTERIA-CORDOBA',\n",
       "       'MOSQUERA-CUNDINAMARCA', 'PUERTO-TEJADA-CAUCA', nan, 'BUGA-VALLE',\n",
       "       'CAJICA-CUNDINAMARCA', 'COPACABANA-ANTIOQUIA', 'CORINTO-CAUCA',\n",
       "       'FUNZA-CUNDINAMARCA', 'APARTADO-ANTIOQUIA',\n",
       "       'BUCARAMANGA-SANTANDER', 'GALAPA-ATLANTICO',\n",
       "       'CIENAGA-DE-ORO-CORDOBA', 'MADRID-CUNDINAMARCA',\n",
       "       'MANIZALES-CALDAS', 'SOLEDAD-ATLANTICO', 'GIRARDOTA-ANTIOQUIA',\n",
       "       'VILLAVICENCIO-META', 'DUITAMA-BOYACA', 'NEIVA',\n",
       "       'PEREIRA-RISARALDA', 'CANDELARIA-VALLE', 'TUMACO-NARINO', 'QUIBDO',\n",
       "       'PASTO', 'BARRANCABERMEJA-SANTANDER', 'PIEDECUESTA-SANTANDER',\n",
       "       'SAN-ANDRES-SAN ANDRES Y PROVIDENCIA', 'ZIPAQUIRA-CUNDINAMARCA',\n",
       "       'SIBATE-CUNDINAMARCA', 'TENJO-CUNDINAMARCA', 'IBAGUE-TOLIMA',\n",
       "       'POPAYAN', 'VALLEDUPAR', 'MAICAO', 'MALAMBO-ATLANTICO',\n",
       "       'SINCELEJO-SUCRE', 'NEIVA-HUILA', 'SOACHA-CUNDINAMARCA',\n",
       "       'SOPO-CUNDINAMARCA', 'IPIALES', 'ZARZAL - VALLE DEL CAUCA',\n",
       "       'PUERTO-WILCHES-SANTANDER', 'FACATATIVA-CUNDINAMARCA',\n",
       "       'BARBOSA-ANTIOQUIA', 'FUQUENE-CUNDINAMARCA',\n",
       "       'SANTA-ROSA-DE-OSOS-ANTIOQUIA', 'DOS-QUEBRADAS-RISARALDA',\n",
       "       'RIONEGRO-ANTIOQUIA', 'CHINCHINA-CALDAS', 'GUARNE-ANTIOQUIA',\n",
       "       'MARINILLA-ANTIOQUIA', 'TURBACO-BOLIVAR', 'SANTA-FE-BOGOTA D.C.',\n",
       "       'TULUA-VALLE', 'AMAGA-ANTIOQUIA', 'GIRON-SANTANDER',\n",
       "       'ARMENIA-QUINDIO'], dtype=object)"
      ]
     },
     "execution_count": 16,
     "metadata": {},
     "output_type": "execute_result"
    }
   ],
   "source": [
    "data['CIUDAD DOMICILIO'].unique()"
   ]
  },
  {
   "cell_type": "code",
   "execution_count": 17,
   "metadata": {},
   "outputs": [
    {
     "data": {
      "text/plain": [
       "array(['C2711 - Fabricación de motores, generadores y transformadores eléctricos',\n",
       "       'G4610 - Comercio al por mayor a cambio de una retribución o por contrata',\n",
       "       'F4111 - Construcción de edificios residenciales',\n",
       "       'O8430- Actividades de planes de seguridad social de afiliacion obligatoria',\n",
       "       'C2392 - Fabricación de materiales de arcilla para la construcción',\n",
       "       'G4645 - Comercio al por mayor de productos farmacéuticos, medicinales, cosméticos y de tocador',\n",
       "       'C1312 - Tejeduría de productos textiles',\n",
       "       'G4664 - Comercio al por mayor de productos químicos básicos, cauchos y plásticos en formas primarias y productos químicos de uso agropecuario',\n",
       "       'C1051 - Elaboración de productos de molinería',\n",
       "       'C2599 - Fabricación de otros productos elaborados de metal n.c.p.',\n",
       "       'C1410 - Confección de prendas de vestir, excepto prendas de piel',\n",
       "       'B0910 - Actividades de apoyo para la extracción de petróleo y de gas natural',\n",
       "       'N8299 - Otras actividades de servicio de apoyo a las empresas n.c.p.',\n",
       "       'C1089 - Elaboración de otros productos alimenticios n.c.p.',\n",
       "       'C1061 - Trilla de café',\n",
       "       'G4620 - Comercio al por mayor de materias primas agropecuarias; animales vivos',\n",
       "       'J6202 - Actividades de consultoría informática y actividades de administración de instalaciones informáticas',\n",
       "       'G4661 - Comercio al por mayor de combustibles sólidos, líquidos, gaseosos y productos conexos',\n",
       "       'G4741 - Comercio al por menor de computadores, equipos periféricos, programas de informática y equipos de telecomunicaciones en establecimientos especializados',\n",
       "       'C1030 - Elaboración de aceites y grasas de origen vegetal y animal',\n",
       "       'G4771 - Comercio al por menor de prendas de vestir y sus accesorios (incluye artículos de piel) en establecimientos especializados',\n",
       "       'G4632 - Comercio al por mayor de bebidas y tabaco',\n",
       "       'N8010 - Actividades de seguridad privada',\n",
       "       'K6613 - Otras actividades relacionadas con el mercado de valores',\n",
       "       'C2410 - Industrias básicas de hierro y de acero',\n",
       "       'G4711 - Comercio al por menor en establecimientos no especializados con surtido compuesto principalmente por alimentos, bebidas o tabaco',\n",
       "       'M7310 - Publicidad', 'D3511 - Generación de energía eléctrica',\n",
       "       'C1071 - Elaboración y refinación de azúcar',\n",
       "       'Q8699- Otras actividades de atencion de la salud humana',\n",
       "       'G4651 - Comercio al por mayor de computadores, equipo periférico y programas de informática',\n",
       "       'C1090 - Elaboración de alimentos preparados para animales',\n",
       "       'G4719 - Comercio al por menor en establecimientos no especializados, con surtido compuesto principalmente por productos diferentes de alimentos (víveres en general), bebidas y tabaco',\n",
       "       'C2394 - Fabricación de cemento, cal y yeso',\n",
       "       'L6810 - Actividades inmobiliarias realizadas con bienes propios o arrendados',\n",
       "       'B0610 - Extracción de petróleo crudo',\n",
       "       'C2393 - Fabricación de otros productos de cerámica y porcelana',\n",
       "       'C1921 - Fabricación de productos de la refinación del petróleo',\n",
       "       'C2229 - Fabricación de artículos de plástico n.c.p.',\n",
       "       'D3520 - Producción de gas; distribución de combustibles gaseosos por tuberías',\n",
       "       'F4210 - Construcción de carreteras y vías de ferrocarril',\n",
       "       'I5511 - Alojamiento en hoteles',\n",
       "       'C2920 - Fabricación de carrocerías para vehículos automotores; fabricación de remolques y semirremolques',\n",
       "       'C2011 - Fabricación de sustancias y productos químicos básicos',\n",
       "       'C1104 - Elaboración de bebidas no alcohólicas, producción de aguas minerales y de otras aguas embotelladas',\n",
       "       'J6190 - Otras actividades de telecomunicaciones',\n",
       "       'M7020 - Actividades de consultaría de gestión',\n",
       "       'J6209 - Otras actividades de tecnologías de información y actividades de servicios informáticos',\n",
       "       'C2029 - Fabricación de otros productos químicos n.c.p.',\n",
       "       'C1082 - Elaboración de cacao, chocolate y productos de confitería',\n",
       "       'C1709 - Fabricación de otros artículos de papel y cartón',\n",
       "       'C2013 - Fabricación de plásticos en formas primarias',\n",
       "       'I5611 - Expendio a la mesa de comidas preparadas',\n",
       "       'C2100 - Fabricación de productos farmacéuticos, sustancias químicas medicinales y productos botánicos de uso farmacéutico',\n",
       "       'A0145 - Cría de aves de corral',\n",
       "       'G4511 - Comercio de vehículos automotores nuevos',\n",
       "       'C1910 - Fabricación de productos de hornos de coque',\n",
       "       'F4329 - Otras instalaciones especializadas',\n",
       "       'C1392 - Confeccion de articulos con materiales textiles, excepto prendas de vestir',\n",
       "       'F4290 - Construcción de otras obras de ingeniería civil',\n",
       "       'C2731 - Fabricación de hilos y cables eléctricos y de fibra óptica',\n",
       "       'C2012 - Fabricación de abonos y compuestos inorgánicos nitrogenados',\n",
       "       'H5229 - Otras actividades complementarias al transporte',\n",
       "       'H4930 - Transporte por tuberías',\n",
       "       'C3120 - Fabricación de colchones y somieres',\n",
       "       'S9603 - Pompas fúnebres y actividades relacionadas',\n",
       "       'Q8610 - Actividades de hospitales y clinicas, con internacion',\n",
       "       'N7820 - Actividades de agencias de empleo temporal',\n",
       "       'C2023 - Fabricación de jabones y detergentes, preparados para limpiar y pulir; perfumes y preparados de tocador',\n",
       "       'D3514 - Comercializacion de energia electrica',\n",
       "       'M7110 - Actividades de arquitectura e ingeniería y otras actividades conexas de consultoría técnica',\n",
       "       'M7010- Actividades de administración empresarial',\n",
       "       'C2310 - Fabricación de vidrio y productos de vidrio', nan,\n",
       "       'C1811 - Actividades de impresión',\n",
       "       'N7710 - Alquiler y arrendamiento de vehículos automotores',\n",
       "       'J6201 - Actividades de desarrollo de sistemas informáticos (planificación, análisis, diseño, programación, pruebas)',\n",
       "       'G4773 - Comercio al por menor de productos farmacéuticos y medicinales, cosméticos y artículos de tocador en establecimientos especializados',\n",
       "       'I5619 - Otros tipos de expendio de comidas preparadas n.c.p.',\n",
       "       'A0125 - Cultivo de flor de corte',\n",
       "       'D3512 - Transmision d energia electrica',\n",
       "       'G4729 - Comercio al por menor de otros productos alimenticios n.c.p., en establecimientos especializados',\n",
       "       'G4690 - Comercio al por mayor no especializado',\n",
       "       'C1040 - Elaboración de productos lácteos',\n",
       "       'J6130 - Actividades de telecomunicación satelital',\n",
       "       'C2750 - Fabricación de aparatos de uso doméstico',\n",
       "       'K6511- Seguros generales',\n",
       "       'C2221 - Fabricación de formas básicas de plástico',\n",
       "       'G4652 - Comercio al por mayor de equipo, partes y piezas electrónicos y de telecomunicaciones',\n",
       "       'N8129 - Otras actividades de limpieza de edificios e instalaciones industriales',\n",
       "       'C2030 - Fabricación de fibras sintéticas y artificiales',\n",
       "       'G4669 - Comercio al por mayor de otros productos n.c.p.',\n",
       "       'C1052 - Elaboración de almidones y productos derivados del almidón',\n",
       "       'C1062 - Descafeinado, tostión y molienda del café',\n",
       "       'C3091 - Fabricación de motocicletas',\n",
       "       'C2790 - Fabricación de otros tipos de equipo eléctrico n.c.p.',\n",
       "       'G4659 - Comercio al por mayor de otros tipos de maquinaria y equipo n.c.p.',\n",
       "       'A0122 - Cultivo de plátano y banano',\n",
       "       'C2021 - Fabricación de plaguicidas y otros productos químicos de uso agropecuario',\n",
       "       'C1702 - Fabricación de papel y cartón ondulado (corrugado); fabricación de envases, empaques y de embalajes de papel y cartón',\n",
       "       'B0620 - Extracción de gas natural',\n",
       "       'C2421 - Industrias básicas de metales preciosos',\n",
       "       'G4663 - Comercio al por mayor de materiales de construcción, artículos de ferretería, pinturas, productos de vidrio, equipo y materiales de fontanería y calefacción',\n",
       "       'G4774 - Comercio al por menor de otros productos nuevos en establecimientos especializados',\n",
       "       'J6120 - Actividades de telecomunicaciones inalámbricas',\n",
       "       'C2732 - Fabricación de dispositivos de cableado',\n",
       "       'C1011 - Procesamiento y conservación de carne y productos cárnicos',\n",
       "       'C1083 - Elaboración de macarrones, fideos, alcuzcuz y productos farináceos similares',\n",
       "       'C1701 - Fabricación de pulpas (pastas) celulósicas; papel y cartón',\n",
       "       'G4530 - Comercio de partes, piezas (autopartes) y accesorios (lujos) para vehículos automotores',\n",
       "       'K6494 - Otras actividades de distribución de fondos',\n",
       "       'G4631 - Comercio al por mayor de productos alimenticios',\n",
       "       'K6492 - Actividades financieras de fondos de empleados y otras formas asociativas del sector solidario',\n",
       "       'G4731 - Comercio al por menor de combustible para automotores',\n",
       "       'G4772 - Comercio al por menor de todo tipo de calzado y artículos de cuero y sucedáneos del cuero en establecimientos especializados',\n",
       "       'H5210 - Almacenamiento y depósito',\n",
       "       'K6499 - Otras actividades de servicio financiero, excepto las de seguros y pensiones n.c.p.',\n",
       "       'G4752 - Comercio al por menor de artículos de ferretería, pinturas y productos de vidrio en establecimientos especializados',\n",
       "       'C1103 - Producción de malta, elaboración de cervezas y otras bebidas malteadas',\n",
       "       'N8220 - Actividades de centros de llamadas (Call center)',\n",
       "       'M7010 - Actividades de administración empresarial',\n",
       "       'G4799 - Otros tipos de comercio al por menor no realizado en establecimientos, puestos de venta o mercados',\n",
       "       'I5612 - Expendio por autoservicio de comidas preparadas',\n",
       "       'C3314 - Mantenimiento y reparación especializado de equipo eléctrico',\n",
       "       'G4665 - Comercio al por mayor de desperdicios, desechos y chatarra',\n",
       "       'A0144 - Cría de ganado porcino',\n",
       "       'C2910 - Fabricación de vehículos automotores y sus motores',\n",
       "       'K6619 - Otras actividades auxiliares de las actividades de servicios financieros n.c.p.',\n",
       "       'J6110 - Actividades de telecomunicaciones alámbricas',\n",
       "       'G4761 - Comercio al por menor de libros, periódicos, materiales y artículos de papelería y escritorio, en establecimientos especializados',\n",
       "       'C2395 - Fabricación de artículos de hormigón, cemento y yeso',\n",
       "       'C1081 - Elaboración de productos de panadería',\n",
       "       'C2930 - Fabricación de partes, piezas (autopartes) y accesorios (lujos) para vehículos automotores',\n",
       "       'G4641 - Comercio al por mayor de productos textiles, productos confeccionados para uso doméstico',\n",
       "       'S9511 - Mantenimiento y reparación de computadores y de equipo periférico',\n",
       "       'C1521 - Fabricación de calzado de cuero y piel, con cualquier tipo de suela',\n",
       "       'B0723 - Extracción de minerales de níquel',\n",
       "       'C2720 - Fabricación de pilas, baterías y acumuladores eléctricos',\n",
       "       'G4644 - Comercio al por mayor de aparatos y equipo de uso doméstico',\n",
       "       'C2592 - Tratamiento y revestimiento de metales; mecanizado',\n",
       "       'D3513- Distribución de energía electrica',\n",
       "       'C3312 - Mantenimiento y reparación especializado de maquinaria y equipo',\n",
       "       'D3511 - Generación de energia electrica',\n",
       "       'H5111 - Transporte aereo nacional de pasajeros',\n",
       "       'B0729 - Extracción de otros minerales metalíferos no ferrosos n.c.p.',\n",
       "       'C1399 - Fabricación de otros artículos textiles n.c.p.',\n",
       "       'J6010 - Actividades de programación y transmisión en el servicio de radiodifusión sonora',\n",
       "       'F4390 - Otras actividades especializadas para la construcción de edificios y obras de ingeniería civil',\n",
       "       'J5914 - Actividades de exhibición de películas cinematográficas y videos',\n",
       "       'C1311 - Preparación e hilatura de fibras textiles',\n",
       "       'H4921 - Transporte de pasajeros',\n",
       "       'C2022 - Fabricación de pinturas, barnices y revestimientos similares, tintas para impresión y masillas',\n",
       "       'K6521- Servicios de seguros sociales',\n",
       "       'C1012 - Procesamiento y conservación de pescados, crustáceos y moluscos',\n",
       "       'G4722 - Comercio al por menor de leche, productos lácteos y huevos, en establecimientos especializados',\n",
       "       'N7730 - Alquiler y arrendamiento de otros tipos de maquinaria, equipo y bienes tangibles n.c.p.',\n",
       "       'B0510 - Extracción de hulla (carbón de piedra)',\n",
       "       'G4751 - Comercio al por menor de productos textiles en establecimientos especializados',\n",
       "       'C1392 - Confección de artículos con materiales textiles, excepto prendas de vestir',\n",
       "       'B0990 - Actividades de apoyo para otras actividades de explotación de minas y canteras',\n",
       "       'G4754 - Comercio al por menor de electrodomésticos y gasodomésticos de uso doméstico, muebles y equipos de iluminación',\n",
       "       'G4662 - Comercio al por mayor de metales y productos metalíferos',\n",
       "       'M7490 - Otras actividades profesionales, científicas y técnicas n.c.p.',\n",
       "       'H5224 - Manipulación de carga',\n",
       "       'D3512 - Transmisión de energía eléctrica',\n",
       "       'J6020 - Actividades de programación y transmisión de televisión',\n",
       "       'M6920 - Actividades de contabilidad, teneduría de libros, auditoría financiera y asesoría tributaria',\n",
       "       'G4723 - Comercio al por menor de carnes (incluye aves de corral), productos cárnicos, pescados y productos de mar, en establecimientos especializados',\n",
       "       'C1513 - Fabricación de artículos de viaje, bolsos de mano y artículos similares; artículos de talabartería y guarnicionería elaborados en otros materiales',\n",
       "       'J6311 - Procesamiento de datos, alojamiento (hosting) y actividades relacionadas',\n",
       "       'C1620 - Fabricación de hojas de madera para enchapado; fabricación de tableros contrachapados, tableros laminados, tableros de partículas y otros tableros y paneles',\n",
       "       'C3290 - Otras industrias manufactureras n.c.p.',\n",
       "       'J6399 - Otras actividades de servicio de información n.c.p.',\n",
       "       'C2030 - Fabricacion de fibras sinteticas y artificiales',\n",
       "       'N7911 - Actividades de las agencias de viaje',\n",
       "       'B0722 - Extracción de oro y otros metales preciosos',\n",
       "       'F4220 - Construcción de proyectos de servicio público',\n",
       "       'C2211 - Fabricación de llantas y neumáticos de caucho',\n",
       "       'B0899 - Extracción de otros minerales no metálicos n.c.p.',\n",
       "       'C1522 - Fabricación de otros tipos de calzado, excepto calzado de cuero y piel',\n",
       "       'C1312 - Tejeduria de productos textiles',\n",
       "       'C2511 - Fabricación de productos metálicos para uso estructural',\n",
       "       'I5613 - Expendio de comidas preparadas en cafeterías',\n",
       "       'C1040 - Elaboración de productos lacteos',\n",
       "       'G4799 - Otros tipos de comercio al por menos no realizado en establecimientos puestos de venta o mercados',\n",
       "       'G4643 - Comercio al por mayor de calzado',\n",
       "       'D3513- Dsitribución de energía electrica',\n",
       "       'C2432 - Fundición de metales no ferrosos',\n",
       "       'N8020 - Actividades de servicios de sistemas de seguridad',\n",
       "       'C1020 - Procesamiento y conservación de frutas, legumbres, hortalizas y tubérculos',\n",
       "       'F4312 - Preparación del terreno',\n",
       "       'B0520 - Extracción de carbón lignito',\n",
       "       'C1200 - Elaboración de productos de tabaco',\n",
       "       'C2219 - Fabricación de formas básicas de caucho y otros productos de caucho n.c.p.',\n",
       "       'N7721 - Alquiler y arrendamiento de equipo recreativo y deportivo',\n",
       "       'N7830 - Otras actividades de suministro de recurso humano'],\n",
       "      dtype=object)"
      ]
     },
     "execution_count": 17,
     "metadata": {},
     "output_type": "execute_result"
    }
   ],
   "source": [
    "data.CIIU.unique()"
   ]
  },
  {
   "cell_type": "code",
   "execution_count": 18,
   "metadata": {},
   "outputs": [
    {
     "data": {
      "text/plain": [
       "array(['MANUFACTURA', 'COMERCIO', 'CONSTRUCCIÓN', 'SERVICIOS',\n",
       "       'MINERO-HIDROCARBUROS', nan, 'AGROPECUARIO', 'CONSTRUCCION'],\n",
       "      dtype=object)"
      ]
     },
     "execution_count": 18,
     "metadata": {},
     "output_type": "execute_result"
    }
   ],
   "source": [
    "data.MACROSECTOR.unique()"
   ]
  },
  {
   "cell_type": "code",
   "execution_count": 19,
   "metadata": {},
   "outputs": [
    {
     "data": {
      "text/plain": [
       "array(['NIIF PLENAS-GRUPO 1', 'NIIF PYMES-GRUPO 2',\n",
       "       'REGIMEN R 414 de 2014 - CGN'], dtype=object)"
      ]
     },
     "execution_count": 19,
     "metadata": {},
     "output_type": "execute_result"
    }
   ],
   "source": [
    "data['GRUPO EN NIIF'].unique()"
   ]
  },
  {
   "cell_type": "markdown",
   "metadata": {},
   "source": [
    "<h1>Preparación de los datos</h1>"
   ]
  },
  {
   "cell_type": "markdown",
   "metadata": {},
   "source": [
    "<h3>Preparación para SUPERVISORES</h3>"
   ]
  },
  {
   "cell_type": "markdown",
   "metadata": {},
   "source": [
    "Cambiamos el typo de SUPERSUCIEDADES a SUPERSOCIEDADES"
   ]
  },
  {
   "cell_type": "code",
   "execution_count": 20,
   "metadata": {},
   "outputs": [],
   "source": [
    "data.loc[data['SUPERVISOR'].str.contains('SUPERSUCIEDADES'), 'SUPERVISOR'] = 'SUPERSOCIEDADES'"
   ]
  },
  {
   "cell_type": "markdown",
   "metadata": {},
   "source": [
    "<h3>Preparación para REGIÓN</h3>"
   ]
  },
  {
   "cell_type": "markdown",
   "metadata": {},
   "source": [
    "Eliminamos el nulo de REGIÓN poniendo la región que le corresponde a su departamento registrado y luego se soluciona el typo que hay entre Costa Atlantica a Costa Atlántica."
   ]
  },
  {
   "cell_type": "code",
   "execution_count": 21,
   "metadata": {},
   "outputs": [],
   "source": [
    "data['REGIÓN'].fillna('Costa Pacífica', inplace=True)"
   ]
  },
  {
   "cell_type": "code",
   "execution_count": 22,
   "metadata": {},
   "outputs": [],
   "source": [
    "data.loc[data['REGIÓN'].str.contains('Costa Atlantica'), 'REGIÓN'] = 'Costa Atlántica'"
   ]
  },
  {
   "cell_type": "markdown",
   "metadata": {},
   "source": [
    "<h3>Preparación para DEPARTAMENTO DOMICILIO</h3>"
   ]
  },
  {
   "cell_type": "markdown",
   "metadata": {},
   "source": [
    "Llenamos los nulos con la información que hay en CIUDAD DOMICILO, cambiamos el typo que hay entre BOGOTA D.C. a BOGOTÁ D.C."
   ]
  },
  {
   "cell_type": "code",
   "execution_count": 24,
   "metadata": {},
   "outputs": [],
   "source": [
    "for index in data[\"No.\"]:\n",
    "    if pd.isnull(data['DEPARTAMENTO DOMICILIO']).iloc[index-1]:\n",
    "        data.loc[index-1, 'DEPARTAMENTO DOMICILIO'] = data['CIUDAD DOMICILIO'].str.rsplit('-', n=1, expand=True)[1][index-1]"
   ]
  },
  {
   "cell_type": "code",
   "execution_count": 25,
   "metadata": {},
   "outputs": [],
   "source": [
    "data.loc[data['DEPARTAMENTO DOMICILIO'].str.contains('BOGOTÁ D.C.'), 'DEPARTAMENTO DOMICILIO'] = 'BOGOTA D.C.'"
   ]
  },
  {
   "cell_type": "markdown",
   "metadata": {},
   "source": [
    "<h3>Preparación para CIUDAD DOMICILIO</h3>"
   ]
  },
  {
   "cell_type": "markdown",
   "metadata": {},
   "source": [
    "Remplazamos todos los nulos con la ciudad que le corresponde al departamento y luego quitamos el departamento adicionado al nombre de la ciudad."
   ]
  },
  {
   "cell_type": "code",
   "execution_count": 29,
   "metadata": {},
   "outputs": [],
   "source": [
    "data.loc[pd.isnull(data['CIUDAD DOMICILIO']) & data['DEPARTAMENTO DOMICILIO'].str.contains('RISARALDA'), 'CIUDAD DOMICILIO'] = 'PEREIRA'"
   ]
  },
  {
   "cell_type": "code",
   "execution_count": 31,
   "metadata": {},
   "outputs": [],
   "source": [
    "data.loc[pd.isnull(data['CIUDAD DOMICILIO']) & data['DEPARTAMENTO DOMICILIO'].str.contains('BOGOTA D.C.'), 'CIUDAD DOMICILIO'] = 'BOGOTA D.C.'"
   ]
  },
  {
   "cell_type": "code",
   "execution_count": 32,
   "metadata": {},
   "outputs": [],
   "source": [
    "data.loc[pd.isnull(data['CIUDAD DOMICILIO']) & data['DEPARTAMENTO DOMICILIO'].str.contains('ANTIOQUIA'), 'CIUDAD DOMICILIO'] = 'MEDELLIN'"
   ]
  },
  {
   "cell_type": "code",
   "execution_count": 33,
   "metadata": {},
   "outputs": [],
   "source": [
    "data.loc[pd.isnull(data['CIUDAD DOMICILIO']) & data['DEPARTAMENTO DOMICILIO'].str.contains('VALLE'), 'CIUDAD DOMICILIO'] = 'CALI'"
   ]
  },
  {
   "cell_type": "code",
   "execution_count": 36,
   "metadata": {},
   "outputs": [],
   "source": [
    "for index in data[\"No.\"]:\n",
    "    data.loc[index-1, 'CIUDAD DOMICILIO'] = data['CIUDAD DOMICILIO'].str.rsplit('-', n=1, expand=True)[0][index-1]\n",
    "    data.loc[index-1, 'CIUDAD DOMICILIO'] = data['CIUDAD DOMICILIO'].str.replace('-', ' ')[index-1]"
   ]
  },
  {
   "cell_type": "markdown",
   "metadata": {},
   "source": [
    "<h3>Preparación para CIIU</h3>"
   ]
  },
  {
   "cell_type": "markdown",
   "metadata": {},
   "source": [
    "Eliminamos los nulos debido a que el análisis del modelo será sobre esos sectores y crearía sesgo ponerle alguna otra cosa."
   ]
  },
  {
   "cell_type": "code",
   "execution_count": 40,
   "metadata": {},
   "outputs": [],
   "source": [
    "data = data[pd.notnull(data['CIIU'])]"
   ]
  },
  {
   "cell_type": "markdown",
   "metadata": {},
   "source": [
    "<h3>Preparación para MACROSECTOR</h3>"
   ]
  },
  {
   "cell_type": "markdown",
   "metadata": {},
   "source": [
    "#TODO: falta terminar jiji <3"
   ]
  },
  {
   "cell_type": "code",
   "execution_count": 43,
   "metadata": {},
   "outputs": [
    {
     "name": "stdout",
     "output_type": "stream",
     "text": [
      "44\n",
      "150\n",
      "857\n"
     ]
    }
   ],
   "source": [
    "filtro = data[pd.isnull(data[\"MACROSECTOR\"])]\n",
    "for i in filtro[\"No.\"]:\n",
    "    data.loc[i-1, 'MACROSECTOR'] = data['CIIU' == filtro[\"CIIU\"]]"
   ]
  }
 ],
 "metadata": {
  "kernelspec": {
   "display_name": "Python 3.10.4 64-bit",
   "language": "python",
   "name": "python3"
  },
  "language_info": {
   "codemirror_mode": {
    "name": "ipython",
    "version": 3
   },
   "file_extension": ".py",
   "mimetype": "text/x-python",
   "name": "python",
   "nbconvert_exporter": "python",
   "pygments_lexer": "ipython3",
   "version": "3.10.4"
  },
  "orig_nbformat": 4,
  "vscode": {
   "interpreter": {
    "hash": "680909a85cd0f96ba1c50ae49c7276dc4874e63b5fd1d1624a0b59680dc2cd74"
   }
  }
 },
 "nbformat": 4,
 "nbformat_minor": 2
}
