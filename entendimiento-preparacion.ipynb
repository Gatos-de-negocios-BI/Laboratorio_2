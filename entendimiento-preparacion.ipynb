{
 "cells": [
  {
   "cell_type": "markdown",
   "metadata": {},
   "source": [
    "<h1>Analisis de los datos para limpieza</h1>"
   ]
  },
  {
   "cell_type": "code",
   "execution_count": null,
   "metadata": {},
   "outputs": [],
   "source": [
    "import pandas as pd\n",
    "import numpy as np\n",
    "import math"
   ]
  },
  {
   "cell_type": "code",
   "execution_count": null,
   "metadata": {},
   "outputs": [],
   "source": [
    "data = pd.read_csv('data\\Empresas_mas_grandes_del_pais_2018.csv', delimiter=';', decimal=',')"
   ]
  },
  {
   "cell_type": "code",
   "execution_count": null,
   "metadata": {},
   "outputs": [],
   "source": [
    "data.shape"
   ]
  },
  {
   "cell_type": "code",
   "execution_count": null,
   "metadata": {},
   "outputs": [],
   "source": [
    "data.describe()"
   ]
  },
  {
   "cell_type": "code",
   "execution_count": null,
   "metadata": {},
   "outputs": [],
   "source": [
    "data.head()"
   ]
  },
  {
   "cell_type": "code",
   "execution_count": null,
   "metadata": {},
   "outputs": [],
   "source": [
    "data.dtypes"
   ]
  },
  {
   "cell_type": "code",
   "execution_count": null,
   "metadata": {},
   "outputs": [],
   "source": [
    "data.isnull().mean()"
   ]
  },
  {
   "cell_type": "code",
   "execution_count": null,
   "metadata": {},
   "outputs": [],
   "source": [
    "data.isnull().mean().sum()"
   ]
  },
  {
   "cell_type": "markdown",
   "metadata": {},
   "source": [
    "Como se puede ver el 2% de nuestras casillas están vacias, y la mayoria de los vacios pertenecen a datos que nos podrían ayudar con el analisis, se tomaran decisiones para reducir ese porcentaje de nulos."
   ]
  },
  {
   "cell_type": "code",
   "execution_count": null,
   "metadata": {},
   "outputs": [],
   "source": [
    "data['NIT'].count()"
   ]
  },
  {
   "cell_type": "code",
   "execution_count": null,
   "metadata": {},
   "outputs": [],
   "source": [
    "len(data['NIT'].unique().tolist())"
   ]
  },
  {
   "cell_type": "code",
   "execution_count": null,
   "metadata": {},
   "outputs": [],
   "source": [
    "data['RAZON SOCIAL'].count()"
   ]
  },
  {
   "cell_type": "code",
   "execution_count": null,
   "metadata": {},
   "outputs": [],
   "source": [
    "len(data['RAZON SOCIAL'].unique().tolist())"
   ]
  },
  {
   "cell_type": "markdown",
   "metadata": {},
   "source": [
    "Existen 68 empresas repetidas, con un analisis posterior unificaremos esas filas."
   ]
  },
  {
   "cell_type": "code",
   "execution_count": null,
   "metadata": {},
   "outputs": [],
   "source": [
    "data.SUPERVISOR.unique()"
   ]
  },
  {
   "cell_type": "code",
   "execution_count": null,
   "metadata": {},
   "outputs": [],
   "source": [
    "data.REGIÓN.unique()"
   ]
  },
  {
   "cell_type": "code",
   "execution_count": null,
   "metadata": {},
   "outputs": [],
   "source": [
    "data['DEPARTAMENTO DOMICILIO'].unique()"
   ]
  },
  {
   "cell_type": "code",
   "execution_count": null,
   "metadata": {},
   "outputs": [],
   "source": [
    "data['CIUDAD DOMICILIO'].unique()"
   ]
  },
  {
   "cell_type": "code",
   "execution_count": null,
   "metadata": {},
   "outputs": [],
   "source": [
    "data.CIIU.unique()"
   ]
  },
  {
   "cell_type": "code",
   "execution_count": null,
   "metadata": {},
   "outputs": [],
   "source": [
    "data.MACROSECTOR.unique()"
   ]
  },
  {
   "cell_type": "code",
   "execution_count": null,
   "metadata": {},
   "outputs": [],
   "source": [
    "data['GRUPO EN NIIF'].unique()"
   ]
  },
  {
   "cell_type": "markdown",
   "metadata": {},
   "source": [
    "<h1>Preparación de los datos</h1>"
   ]
  },
  {
   "cell_type": "markdown",
   "metadata": {},
   "source": [
    "<h3>Preparación para SUPERVISORES</h3>"
   ]
  },
  {
   "cell_type": "markdown",
   "metadata": {},
   "source": [
    "Cambiamos el typo de SUPERSUCIEDADES a SUPERSOCIEDADES"
   ]
  },
  {
   "cell_type": "code",
   "execution_count": null,
   "metadata": {},
   "outputs": [],
   "source": [
    "data.loc[data['SUPERVISOR'].str.contains('SUPERSUCIEDADES'), 'SUPERVISOR'] = 'SUPERSOCIEDADES'"
   ]
  },
  {
   "cell_type": "markdown",
   "metadata": {},
   "source": [
    "<h3>Preparación para REGIÓN</h3>"
   ]
  },
  {
   "cell_type": "markdown",
   "metadata": {},
   "source": [
    "Eliminamos el nulo de REGIÓN poniendo la región que le corresponde a su departamento registrado y luego se soluciona el typo que hay entre Costa Atlantica a Costa Atlántica."
   ]
  },
  {
   "cell_type": "code",
   "execution_count": null,
   "metadata": {},
   "outputs": [],
   "source": [
    "data['REGIÓN'].fillna('Costa Pacífica', inplace=True)"
   ]
  },
  {
   "cell_type": "code",
   "execution_count": null,
   "metadata": {},
   "outputs": [],
   "source": [
    "data.loc[data['REGIÓN'].str.contains('Costa Atlantica'), 'REGIÓN'] = 'Costa Atlántica'"
   ]
  },
  {
   "cell_type": "markdown",
   "metadata": {},
   "source": [
    "<h3>Preparación para DEPARTAMENTO DOMICILIO</h3>"
   ]
  },
  {
   "cell_type": "markdown",
   "metadata": {},
   "source": [
    "Llenamos los nulos con la información que hay en CIUDAD DOMICILO, cambiamos el typo que hay entre BOGOTA D.C. a BOGOTÁ D.C."
   ]
  },
  {
   "cell_type": "code",
   "execution_count": null,
   "metadata": {},
   "outputs": [],
   "source": [
    "for index in data[\"No.\"]:\n",
    "    if pd.isnull(data['DEPARTAMENTO DOMICILIO']).iloc[index-1]:\n",
    "        data.loc[index-1, 'DEPARTAMENTO DOMICILIO'] = data['CIUDAD DOMICILIO'].str.rsplit('-', n=1, expand=True)[1][index-1]"
   ]
  },
  {
   "cell_type": "code",
   "execution_count": null,
   "metadata": {},
   "outputs": [],
   "source": [
    "data.loc[data['DEPARTAMENTO DOMICILIO'].str.contains('BOGOTÁ D.C.'), 'DEPARTAMENTO DOMICILIO'] = 'BOGOTA D.C.'"
   ]
  },
  {
   "cell_type": "markdown",
   "metadata": {},
   "source": [
    "<h3>Preparación para CIUDAD DOMICILIO</h3>"
   ]
  },
  {
   "cell_type": "markdown",
   "metadata": {},
   "source": [
    "Remplazamos todos los nulos con la ciudad que le corresponde al departamento y luego quitamos el departamento adicionado al nombre de la ciudad."
   ]
  },
  {
   "cell_type": "code",
   "execution_count": null,
   "metadata": {},
   "outputs": [],
   "source": [
    "data.loc[pd.isnull(data['CIUDAD DOMICILIO']) & data['DEPARTAMENTO DOMICILIO'].str.contains('RISARALDA'), 'CIUDAD DOMICILIO'] = 'PEREIRA'"
   ]
  },
  {
   "cell_type": "code",
   "execution_count": null,
   "metadata": {},
   "outputs": [],
   "source": [
    "data.loc[pd.isnull(data['CIUDAD DOMICILIO']) & data['DEPARTAMENTO DOMICILIO'].str.contains('BOGOTA D.C.'), 'CIUDAD DOMICILIO'] = 'BOGOTA D.C.'"
   ]
  },
  {
   "cell_type": "code",
   "execution_count": null,
   "metadata": {},
   "outputs": [],
   "source": [
    "data.loc[pd.isnull(data['CIUDAD DOMICILIO']) & data['DEPARTAMENTO DOMICILIO'].str.contains('ANTIOQUIA'), 'CIUDAD DOMICILIO'] = 'MEDELLIN'"
   ]
  },
  {
   "cell_type": "code",
   "execution_count": null,
   "metadata": {},
   "outputs": [],
   "source": [
    "data.loc[pd.isnull(data['CIUDAD DOMICILIO']) & data['DEPARTAMENTO DOMICILIO'].str.contains('VALLE'), 'CIUDAD DOMICILIO'] = 'CALI'"
   ]
  },
  {
   "cell_type": "code",
   "execution_count": null,
   "metadata": {},
   "outputs": [],
   "source": [
    "for index in data[\"No.\"]:\n",
    "    data.loc[index-1, 'CIUDAD DOMICILIO'] = data['CIUDAD DOMICILIO'].str.rsplit('-', n=1, expand=True)[0][index-1]\n",
    "    data.loc[index-1, 'CIUDAD DOMICILIO'] = data['CIUDAD DOMICILIO'].str.replace('-', ' ')[index-1]"
   ]
  },
  {
   "cell_type": "markdown",
   "metadata": {},
   "source": [
    "<h3>Preparación para CIIU</h3>"
   ]
  },
  {
   "cell_type": "markdown",
   "metadata": {},
   "source": [
    "Eliminamos los nulos debido a que el análisis del modelo será sobre esos sectores y crearía sesgo ponerle alguna otra cosa."
   ]
  },
  {
   "cell_type": "code",
   "execution_count": null,
   "metadata": {},
   "outputs": [],
   "source": [
    "data = data[pd.notnull(data['CIIU'])]"
   ]
  },
  {
   "cell_type": "markdown",
   "metadata": {},
   "source": [
    "<h3>Preparación para MACROSECTOR</h3>"
   ]
  },
  {
   "cell_type": "markdown",
   "metadata": {},
   "source": [
    "Se asignan los valores de macroservicio a los nulos tomando en cuenta el CIIU."
   ]
  },
  {
   "cell_type": "code",
   "execution_count": null,
   "metadata": {},
   "outputs": [],
   "source": [
    "filtro = data[pd.isnull(data[\"MACROSECTOR\"])]\n",
    "filtro.head()"
   ]
  },
  {
   "cell_type": "code",
   "execution_count": null,
   "metadata": {},
   "outputs": [],
   "source": [
    "# If the ciiu contains g4645 then the macrosector is \"COMERCIO\"\n",
    "data.loc[data['CIIU'].str.contains('G4645'), 'MACROSECTOR'] = 'COMERCIO'\n",
    "\n",
    "# If the ciiu contains g4641 then the macrosector is \"COMERCIO\"\n",
    "data.loc[data['CIIU'].str.contains('G4641'), 'MACROSECTOR'] = 'COMERCIO'\n",
    "\n",
    "# If the ciiu contains a0125 then the macrosector is \"AGROPECUARIO\"\n",
    "data.loc[data['CIIU'].str.contains('A0125'), 'MACROSECTOR'] = 'AGROPECUARIO'"
   ]
  },
  {
   "cell_type": "code",
   "execution_count": null,
   "metadata": {},
   "outputs": [],
   "source": [
    "data['MACROSECTOR'].unique()"
   ]
  },
  {
   "cell_type": "code",
   "execution_count": null,
   "metadata": {},
   "outputs": [],
   "source": [
    "data.isnull().mean()"
   ]
  },
  {
   "cell_type": "markdown",
   "metadata": {},
   "source": [
    "<h3>Preparación para ACTIVOS/PASIVOS/PATRIMONIO</h3>"
   ]
  },
  {
   "cell_type": "markdown",
   "metadata": {},
   "source": [
    "Primero convertimos la columna TOTAL PASIVOS 2017 a float quitando el caracter $"
   ]
  },
  {
   "cell_type": "code",
   "execution_count": null,
   "metadata": {},
   "outputs": [],
   "source": [
    "data.loc[data['TOTAL PASIVOS 2017'].str.contains('$', regex=False), 'TOTAL PASIVOS 2017'] = data['TOTAL PASIVOS 2017'].str.replace('$', '', regex=False).str.replace(' ', '', regex=False)\n",
    "data['TOTAL PASIVOS 2017'] = pd.to_numeric(data['TOTAL PASIVOS 2017'], errors='coerce')"
   ]
  },
  {
   "cell_type": "code",
   "execution_count": null,
   "metadata": {},
   "outputs": [],
   "source": [
    "data.infer_objects().dtypes\n",
    "data.dtypes"
   ]
  },
  {
   "cell_type": "markdown",
   "metadata": {},
   "source": [
    "Se aplica la formula del patrimonio para hallar los valores faltantes.<br>\n",
    "<i>Patrimonio = Activos - Pasivos</i>"
   ]
  },
  {
   "cell_type": "code",
   "execution_count": null,
   "metadata": {},
   "outputs": [],
   "source": [
    "nan_rows = data[data.isnull().T.any().T]"
   ]
  },
  {
   "cell_type": "code",
   "execution_count": null,
   "metadata": {},
   "outputs": [],
   "source": [
    "print(nan_rows.shape)\n",
    "nan_rows.head()"
   ]
  },
  {
   "cell_type": "code",
   "execution_count": null,
   "metadata": {},
   "outputs": [],
   "source": [
    "# If PATRIMONIO is null que calculate it with PATRIMONIO = ACTIVOS - PASIVOS\n",
    "data.loc[data['TOTAL PATRIMONIO 2018'].isnull(), 'TOTAL PATRIMONIO 2018'] = data['TOTAL ACTIVOS 2018'] - data['TOTAL PASIVOS 2018']\n",
    "\n",
    "# If ACTIVOS is null que calculate it with ACTIVOS = PASIVOS + PATRIMONIO\n",
    "data.loc[data['TOTAL ACTIVOS 2018'].isnull(), 'TOTAL ACTIVOS 2018'] = data['TOTAL PASIVOS 2018'] + data['TOTAL PATRIMONIO 2018']\n",
    "\n",
    "# If PASIVOS is null que calculate it with PASIVOS = ACTIVOS - PATRIMONIO\n",
    "data.loc[data['TOTAL PASIVOS 2018'].isnull(), 'TOTAL PASIVOS 2018'] = data['TOTAL ACTIVOS 2018'] - data['TOTAL PATRIMONIO 2018']\n"
   ]
  },
  {
   "cell_type": "code",
   "execution_count": null,
   "metadata": {},
   "outputs": [],
   "source": [
    "# If PATRIMONIO is null que calculate it with PATRIMONIO = ACTIVOS - PASIVOS\n",
    "data.loc[data['TOTAL PATRIMONIO 2017'].isnull(), 'TOTAL PATRIMONIO 2017'] = data['TOTAL ACTIVOS 2017'] - data['TOTAL PASIVOS 2017']\n",
    "\n",
    "# If ACTIVOS is null que calculate it with ACTIVOS = PASIVOS + PATRIMONIO\n",
    "data.loc[data['TOTAL ACTIVOS 2017'].isnull(), 'TOTAL ACTIVOS 2017'] = data['TOTAL PASIVOS 2017'] + data['TOTAL PATRIMONIO 2017']\n",
    "\n",
    "# If PASIVOS is null que calculate it with PASIVOS = ACTIVOS - PATRIMONIO\n",
    "data.loc[data['TOTAL PASIVOS 2017'].isnull(), 'TOTAL PASIVOS 2017'] = data['TOTAL ACTIVOS 2017'] - data['TOTAL PATRIMONIO 2017']"
   ]
  },
  {
   "cell_type": "code",
   "execution_count": null,
   "metadata": {},
   "outputs": [],
   "source": [
    "nan_rows = data[data.isnull().T.any().T]"
   ]
  },
  {
   "cell_type": "code",
   "execution_count": null,
   "metadata": {},
   "outputs": [],
   "source": [
    "print(nan_rows.shape)\n",
    "nan_rows.head()"
   ]
  },
  {
   "cell_type": "code",
   "execution_count": null,
   "metadata": {},
   "outputs": [],
   "source": [
    "data.isnull().mean()"
   ]
  },
  {
   "cell_type": "markdown",
   "metadata": {},
   "source": [
    "<h3>Preparación para ingresos operacionales y ganancia</h3>"
   ]
  },
  {
   "cell_type": "markdown",
   "metadata": {},
   "source": [
    "Debido a que estos datos hacen una gran contribución al modelo y no hay forma de predecirlos, vamos a eliminar las filas que no tienen este valor."
   ]
  },
  {
   "cell_type": "code",
   "execution_count": null,
   "metadata": {},
   "outputs": [],
   "source": [
    "data = data[pd.notnull(data['INGRESOS OPERACIONALES\\n2018*'])]"
   ]
  },
  {
   "cell_type": "code",
   "execution_count": null,
   "metadata": {},
   "outputs": [],
   "source": [
    "data = data[pd.notnull(data['INGRESOS OPERACIONALES\\n2017*'])]"
   ]
  },
  {
   "cell_type": "code",
   "execution_count": null,
   "metadata": {},
   "outputs": [],
   "source": [
    "data = data[pd.notnull(data['GANANCIA (PERDIDA) 2018'])]"
   ]
  },
  {
   "cell_type": "code",
   "execution_count": null,
   "metadata": {},
   "outputs": [],
   "source": [
    "data = data[pd.notnull(data['GANANCIA (PERDIDA) 2017'])]"
   ]
  },
  {
   "cell_type": "markdown",
   "metadata": {},
   "source": [
    "<h3>Preparación empresas repetidas</h3>"
   ]
  },
  {
   "cell_type": "markdown",
   "metadata": {},
   "source": [
    "Dropeamos las empresas repetidas"
   ]
  },
  {
   "cell_type": "code",
   "execution_count": null,
   "metadata": {},
   "outputs": [],
   "source": [
    "data = data.drop_duplicates(subset=['NIT'])"
   ]
  },
  {
   "cell_type": "code",
   "execution_count": null,
   "metadata": {},
   "outputs": [],
   "source": [
    "data.isnull().mean()"
   ]
  }
 ],
 "metadata": {
  "kernelspec": {
   "display_name": "Python 3.10.4 64-bit",
   "language": "python",
   "name": "python3"
  },
  "language_info": {
   "codemirror_mode": {
    "name": "ipython",
    "version": 3
   },
   "file_extension": ".py",
   "mimetype": "text/x-python",
   "name": "python",
   "nbconvert_exporter": "python",
   "pygments_lexer": "ipython3",
   "version": "3.10.4"
  },
  "orig_nbformat": 4,
  "vscode": {
   "interpreter": {
    "hash": "680909a85cd0f96ba1c50ae49c7276dc4874e63b5fd1d1624a0b59680dc2cd74"
   }
  }
 },
 "nbformat": 4,
 "nbformat_minor": 2
}
